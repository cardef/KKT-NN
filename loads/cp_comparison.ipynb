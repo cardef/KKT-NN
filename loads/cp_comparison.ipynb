{
 "cells": [
  {
   "cell_type": "code",
   "execution_count": 36,
   "metadata": {},
   "outputs": [],
   "source": [
    "import numpy as np\n",
    "import cvxpy as cp\n",
    "import torch\n",
    "from cvxpylayers.torch import CvxpyLayer\n",
    "from pickle import load\n",
    "\n",
    "import KKT_NN"
   ]
  },
  {
   "cell_type": "code",
   "execution_count": 37,
   "metadata": {},
   "outputs": [],
   "source": [
    "x = cp.Variable(2)\n",
    "point = cp.Parameter(2)\n",
    "h = cp.Parameter(7)\n",
    "G = cp.Parameter((7, 2))\n",
    "prob = cp.Problem(cp.Minimize(cp.sum_squares(x - point)), [G @ x <= h])\n",
    "generator_layer = CvxpyLayer(prob, parameters=[point, G, h], variables=[x])"
   ]
  },
  {
   "cell_type": "code",
   "execution_count": 38,
   "metadata": {},
   "outputs": [],
   "source": [
    "device = torch.device(\"cpu\" if torch.cuda.is_available() else \"mps\")"
   ]
  },
  {
   "cell_type": "code",
   "execution_count": 39,
   "metadata": {},
   "outputs": [],
   "source": [
    "ds = load(open(\"dataset_loads_comp.pkl\", \"rb\"))[:1000]\n",
    "\n",
    "ds = np.stack([ds[i][0] for i in range(len(ds))])\n"
   ]
  },
  {
   "cell_type": "code",
   "execution_count": 40,
   "metadata": {},
   "outputs": [
    {
     "data": {
      "text/plain": [
       "(1000, 7)"
      ]
     },
     "execution_count": 40,
     "metadata": {},
     "output_type": "execute_result"
    }
   ],
   "source": [
    "ds.shape"
   ]
  },
  {
   "cell_type": "code",
   "execution_count": 41,
   "metadata": {},
   "outputs": [],
   "source": [
    "ds = torch.tensor(ds).to(dtype=torch.float32, device=device)"
   ]
  },
  {
   "cell_type": "code",
   "execution_count": 42,
   "metadata": {},
   "outputs": [],
   "source": [
    "p, q, p_pot, p_max, q_max, p_plus, q_plus = ds[..., 0], ds[..., 1], ds[..., 2], ds[..., 3], ds[..., 4], ds[..., 5], ds[..., 6]\n",
    "\n",
    "a = torch.stack([p, q], 1)\n",
    "tau1 = (q_plus - q_max)/(p_max - p_plus)\n",
    "tau2 = (-q_plus + q_max)/(p_max - p_plus)\n",
    "rho1 = q_max - tau1*p_plus\n",
    "rho2 = -q_max - tau2*p_plus"
   ]
  },
  {
   "cell_type": "code",
   "execution_count": 43,
   "metadata": {},
   "outputs": [],
   "source": [
    "G_val = torch.Tensor(\n",
    "                [\n",
    "                    [-1, 0], [1, 0], [1, 0], [0, -1], [0, 1], [0, 1], [0, -1]\n",
    "                ]\n",
    "            ).to(dtype=torch.float32, device=device).repeat(len(a), 1, 1)"
   ]
  },
  {
   "cell_type": "code",
   "execution_count": 44,
   "metadata": {},
   "outputs": [],
   "source": [
    "G_val[..., -2 , 0] = tau1\n",
    "G_val[..., -1 , 0] = tau2\n",
    "h_val =torch.stack((torch.zeros(len(a), device = device, dtype=torch.float32), p_max, p_pot, q_max, q_max, rho1, -rho2), 1)"
   ]
  },
  {
   "cell_type": "code",
   "execution_count": 45,
   "metadata": {},
   "outputs": [
    {
     "data": {
      "text/plain": [
       "tensor([[[-1.0000,  0.0000],\n",
       "         [ 1.0000,  0.0000],\n",
       "         [ 1.0000,  0.0000],\n",
       "         ...,\n",
       "         [ 0.0000,  1.0000],\n",
       "         [-1.5000,  1.0000],\n",
       "         [ 1.5000, -1.0000]],\n",
       "\n",
       "        [[-1.0000,  0.0000],\n",
       "         [ 1.0000,  0.0000],\n",
       "         [ 1.0000,  0.0000],\n",
       "         ...,\n",
       "         [ 0.0000,  1.0000],\n",
       "         [-1.5000,  1.0000],\n",
       "         [ 1.5000, -1.0000]],\n",
       "\n",
       "        [[-1.0000,  0.0000],\n",
       "         [ 1.0000,  0.0000],\n",
       "         [ 1.0000,  0.0000],\n",
       "         ...,\n",
       "         [ 0.0000,  1.0000],\n",
       "         [-1.5000,  1.0000],\n",
       "         [ 1.5000, -1.0000]],\n",
       "\n",
       "        ...,\n",
       "\n",
       "        [[-1.0000,  0.0000],\n",
       "         [ 1.0000,  0.0000],\n",
       "         [ 1.0000,  0.0000],\n",
       "         ...,\n",
       "         [ 0.0000,  1.0000],\n",
       "         [-1.5000,  1.0000],\n",
       "         [ 1.5000, -1.0000]],\n",
       "\n",
       "        [[-1.0000,  0.0000],\n",
       "         [ 1.0000,  0.0000],\n",
       "         [ 1.0000,  0.0000],\n",
       "         ...,\n",
       "         [ 0.0000,  1.0000],\n",
       "         [-1.5000,  1.0000],\n",
       "         [ 1.5000, -1.0000]],\n",
       "\n",
       "        [[-1.0000,  0.0000],\n",
       "         [ 1.0000,  0.0000],\n",
       "         [ 1.0000,  0.0000],\n",
       "         ...,\n",
       "         [ 0.0000,  1.0000],\n",
       "         [-1.5000,  1.0000],\n",
       "         [ 1.5000, -1.0000]]])"
      ]
     },
     "execution_count": 45,
     "metadata": {},
     "output_type": "execute_result"
    }
   ],
   "source": [
    "G_val"
   ]
  },
  {
   "cell_type": "code",
   "execution_count": 46,
   "metadata": {},
   "outputs": [],
   "source": [
    "gt = generator_layer(a, G_val, h_val)[0]"
   ]
  },
  {
   "cell_type": "code",
   "execution_count": 47,
   "metadata": {},
   "outputs": [
    {
     "data": {
      "text/plain": [
       "Net(\n",
       "  (mlp): Sequential(\n",
       "    (0): Linear(in_features=7, out_features=1024, bias=True)\n",
       "    (1): LeakyReLU(negative_slope=0.01)\n",
       "    (2): ResidualBlock(\n",
       "      (linear): Linear(in_features=1024, out_features=1024, bias=True)\n",
       "      (relu): LeakyReLU(negative_slope=0.01)\n",
       "      (ln): BatchNorm1d(1024, eps=1e-05, momentum=0.1, affine=True, track_running_stats=True)\n",
       "      (dropout): Dropout(p=0.1, inplace=False)\n",
       "    )\n",
       "    (3): ResidualBlock(\n",
       "      (linear): Linear(in_features=1024, out_features=1024, bias=True)\n",
       "      (relu): LeakyReLU(negative_slope=0.01)\n",
       "      (ln): BatchNorm1d(1024, eps=1e-05, momentum=0.1, affine=True, track_running_stats=True)\n",
       "      (dropout): Dropout(p=0.1, inplace=False)\n",
       "    )\n",
       "    (4): ResidualBlock(\n",
       "      (linear): Linear(in_features=1024, out_features=1024, bias=True)\n",
       "      (relu): LeakyReLU(negative_slope=0.01)\n",
       "      (ln): BatchNorm1d(1024, eps=1e-05, momentum=0.1, affine=True, track_running_stats=True)\n",
       "      (dropout): Dropout(p=0.1, inplace=False)\n",
       "    )\n",
       "    (5): Linear(in_features=1024, out_features=9, bias=True)\n",
       "  )\n",
       ")"
      ]
     },
     "execution_count": 47,
     "metadata": {},
     "output_type": "execute_result"
    }
   ],
   "source": [
    "model = KKT_NN.KKT_NN()\n",
    "model.net.load_state_dict(torch.load(\"kkt_nn.pt\", map_location = device))\n",
    "model.net.to(device)"
   ]
  },
  {
   "cell_type": "code",
   "execution_count": 48,
   "metadata": {},
   "outputs": [],
   "source": [
    "pred = model.net(ds)[0]"
   ]
  },
  {
   "cell_type": "code",
   "execution_count": 68,
   "metadata": {},
   "outputs": [
    {
     "data": {
      "text/plain": [
       "tensor([334, 942])"
      ]
     },
     "execution_count": 68,
     "metadata": {},
     "output_type": "execute_result"
    }
   ],
   "source": [
    "torch.argmax((((gt - pred).abs()/(gt).abs()) * 100), 0)"
   ]
  },
  {
   "cell_type": "code",
   "execution_count": 69,
   "metadata": {},
   "outputs": [
    {
     "data": {
      "text/plain": [
       "tensor([0.0001, 0.0197])"
      ]
     },
     "execution_count": 69,
     "metadata": {},
     "output_type": "execute_result"
    }
   ],
   "source": [
    "gt[334]"
   ]
  },
  {
   "cell_type": "code",
   "execution_count": 74,
   "metadata": {},
   "outputs": [
    {
     "data": {
      "text/plain": [
       "tensor([3.2545e-01, 1.9734e-02, 6.8281e-05, 3.0000e-01, 3.0000e-01, 2.0000e-01,\n",
       "        1.5000e-01])"
      ]
     },
     "execution_count": 74,
     "metadata": {},
     "output_type": "execute_result"
    }
   ],
   "source": [
    "ds[334]"
   ]
  },
  {
   "cell_type": "code",
   "execution_count": 70,
   "metadata": {},
   "outputs": [
    {
     "data": {
      "text/plain": [
       "tensor([0.0058, 0.0221], grad_fn=<SelectBackward0>)"
      ]
     },
     "execution_count": 70,
     "metadata": {},
     "output_type": "execute_result"
    }
   ],
   "source": [
    "pred[334]"
   ]
  },
  {
   "cell_type": "code",
   "execution_count": 67,
   "metadata": {},
   "outputs": [
    {
     "data": {
      "text/plain": [
       "tensor([0.0021, 0.0443], grad_fn=<AbsBackward0>)"
      ]
     },
     "execution_count": 67,
     "metadata": {},
     "output_type": "execute_result"
    }
   ],
   "source": [
    "(gt[584] - pred[584]).abs()"
   ]
  },
  {
   "cell_type": "code",
   "execution_count": null,
   "metadata": {},
   "outputs": [],
   "source": []
  }
 ],
 "metadata": {
  "kernelspec": {
   "display_name": "KKT_NN",
   "language": "python",
   "name": "python3"
  },
  "language_info": {
   "codemirror_mode": {
    "name": "ipython",
    "version": 3
   },
   "file_extension": ".py",
   "mimetype": "text/x-python",
   "name": "python",
   "nbconvert_exporter": "python",
   "pygments_lexer": "ipython3",
   "version": "3.12.4"
  }
 },
 "nbformat": 4,
 "nbformat_minor": 2
}
