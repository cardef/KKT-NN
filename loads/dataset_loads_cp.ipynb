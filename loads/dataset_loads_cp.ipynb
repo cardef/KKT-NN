{
 "cells": [
  {
   "cell_type": "code",
   "execution_count": 9,
   "metadata": {},
   "outputs": [],
   "source": [
    "import numpy as np\n",
    "import cvxpy as cp"
   ]
  },
  {
   "cell_type": "code",
   "execution_count": 10,
   "metadata": {},
   "outputs": [],
   "source": [
    "def loads(p, q, p_min, p_max, p_plus, p_pot, q_min, q_max, q_minus, q_plus):\n",
    "\ttau_1 = (q_plus - q_max)/(p_max - p_plus)\n",
    "\ttau_2 = (q_minus - q_min)/(p_max - p_plus)\n",
    "\n",
    "\trho_1 = q_max - tau_1*p_plus\n",
    "\trho_2 = q_min - tau_2*p_plus\n",
    "\tpoint = np.array([p, q])\n",
    "\n",
    "\t# Inequality constraints for the optimization problem.\n",
    "\tG = np.array([[-1, 0], [1, 0], [1, 0], [0, -1], [0, 1], [-tau_1, 1], [tau_2, -1]])\n",
    "\n",
    "\th = np.array([-p_min, p_max, p_pot, -q_min, q_max, rho_1, -rho_2])\n",
    "\n",
    "\t# Define and solve the CVXPY problem.\n",
    "\tx = cp.Variable(2)\n",
    "\tprob = cp.Problem(cp.Minimize(cp.sum_squares(x - point)), [G @ x <= h])\n",
    "\tprob.solve()\n",
    "\n",
    "\tp_feas = x.value[0]\n",
    "\tq_feas = x.value[1]\n",
    "\treturn p_feas, q_feas"
   ]
  },
  {
   "cell_type": "code",
   "execution_count": 11,
   "metadata": {},
   "outputs": [],
   "source": [
    "ds = []"
   ]
  },
  {
   "cell_type": "code",
   "execution_count": 12,
   "metadata": {},
   "outputs": [],
   "source": [
    "p_min = 0.0\n",
    "p_max = 0.3\n",
    "p_plus = 0.2\n",
    "q_min = -0.3\n",
    "q_max = 0.3\n",
    "q_minus = -0.15\n",
    "q_plus = 0.15\n"
   ]
  },
  {
   "cell_type": "code",
   "execution_count": 13,
   "metadata": {},
   "outputs": [],
   "source": [
    "for _ in range(500):\n",
    "\tp_pot = np.random.rand() * p_max\n",
    "\tp = np.random.rand()\n",
    "\tq = 2*np.random.rand() - 1\n",
    "\tp_feas, q_feas = loads(p, q, p_min, p_max, p_plus, p_pot, q_min, q_max, q_minus, q_plus)\n",
    "\tX = np.array([p, q, p_pot, p_max, q_max, p_plus, q_plus])\n",
    "\ty = np.array([p_feas, q_feas])\n",
    "\n",
    "\tds.append([X, y]) "
   ]
  },
  {
   "cell_type": "code",
   "execution_count": 14,
   "metadata": {},
   "outputs": [],
   "source": [
    "p_min = 0.0\n",
    "p_max = 0.5\n",
    "p_plus = 0.35\n",
    "q_min = -0.5\n",
    "q_max = 0.5\n",
    "q_minus = -0.2\n",
    "q_plus = 0.2"
   ]
  },
  {
   "cell_type": "code",
   "execution_count": 15,
   "metadata": {},
   "outputs": [],
   "source": [
    "for _ in range(500):\n",
    "\tp_pot = np.random.rand() * p_max\n",
    "\tp = np.random.rand()\n",
    "\tq = 2*np.random.rand() - 1\n",
    "\tp_feas, q_feas = loads(p, q, p_min, p_max, p_plus, p_pot, q_min, q_max, q_minus, q_plus)\n",
    "\tX = np.array([p, q, p_pot, p_max, q_max, p_plus, q_plus,])\n",
    "\ty = np.array([p_feas, q_feas])\n",
    "\n",
    "\tds.append([X, y]) "
   ]
  },
  {
   "cell_type": "code",
   "execution_count": 16,
   "metadata": {},
   "outputs": [],
   "source": [
    "from pickle import dump\n",
    "dump(ds, open(\"dataset_loads.pkl\", \"wb\"))"
   ]
  },
  {
   "cell_type": "code",
   "execution_count": null,
   "metadata": {},
   "outputs": [],
   "source": []
  }
 ],
 "metadata": {
  "kernelspec": {
   "display_name": "KKT_NN",
   "language": "python",
   "name": "python3"
  },
  "language_info": {
   "codemirror_mode": {
    "name": "ipython",
    "version": 3
   },
   "file_extension": ".py",
   "mimetype": "text/x-python",
   "name": "python",
   "nbconvert_exporter": "python",
   "pygments_lexer": "ipython3",
   "version": "3.12.4"
  }
 },
 "nbformat": 4,
 "nbformat_minor": 2
}
