{
 "cells": [
  {
   "cell_type": "code",
   "execution_count": 1,
   "metadata": {},
   "outputs": [],
   "source": [
    "import gym\n",
    "import gym_anm\n",
    "import time\n",
    "import numpy as np\n",
    "from pickle import dump"
   ]
  },
  {
   "cell_type": "code",
   "execution_count": 2,
   "metadata": {},
   "outputs": [
    {
     "name": "stderr",
     "output_type": "stream",
     "text": [
      "/Users/carmine/miniforge3/envs/KKT-NN/lib/python3.12/site-packages/gym/utils/passive_env_checker.py:174: UserWarning: \u001b[33mWARN: Future gym versions will require that `Env.reset` can be passed a `seed` instead of using `Env.seed` for resetting the environment random number generator.\u001b[0m\n",
      "  logger.warn(\n",
      "/Users/carmine/miniforge3/envs/KKT-NN/lib/python3.12/site-packages/gym/utils/passive_env_checker.py:187: UserWarning: \u001b[33mWARN: Future gym versions will require that `Env.reset` can be passed `options` to allow the environment initialisation to be passed additional information.\u001b[0m\n",
      "  logger.warn(\n",
      "/Users/carmine/miniforge3/envs/KKT-NN/lib/python3.12/site-packages/gym/utils/passive_env_checker.py:195: UserWarning: \u001b[33mWARN: The result returned by `env.reset()` was not a tuple of the form `(obs, info)`, where `obs` is a observation and `info` is a dictionary containing additional information. Actual type: `<class 'numpy.ndarray'>`\u001b[0m\n",
      "  logger.warn(\n"
     ]
    }
   ],
   "source": [
    "dataset = []\n",
    "env = gym.make(\"gym_anm:ANM6Easy-v0\")\n",
    "state = env.reset()"
   ]
  },
  {
   "cell_type": "code",
   "execution_count": 3,
   "metadata": {},
   "outputs": [
    {
     "name": "stderr",
     "output_type": "stream",
     "text": [
      "/Users/carmine/miniforge3/envs/KKT-NN/lib/python3.12/site-packages/gym/utils/passive_env_checker.py:219: DeprecationWarning: \u001b[33mWARN: Core environment is written in old step API which returns one bool instead of two. It is recommended to rewrite the environment with new step API. \u001b[0m\n",
      "  logger.deprecation(\n",
      "/Users/carmine/miniforge3/envs/KKT-NN/lib/python3.12/site-packages/gym/utils/passive_env_checker.py:225: DeprecationWarning: `np.bool8` is a deprecated alias for `np.bool_`.  (Deprecated NumPy 1.24)\n",
      "  if not isinstance(done, (bool, np.bool8)):\n"
     ]
    }
   ],
   "source": [
    "action = env.action_space.sample()\n",
    "observation, reward, done, info = env.step(action)"
   ]
  },
  {
   "cell_type": "code",
   "execution_count": 8,
   "metadata": {},
   "outputs": [
    {
     "data": {
      "text/plain": [
       "Box([  0.   0. -30. -50. -50. -50.], [30. 50. 30. 50. 50. 50.], (6,), float64)"
      ]
     },
     "execution_count": 8,
     "metadata": {},
     "output_type": "execute_result"
    }
   ],
   "source": [
    "env.action_space"
   ]
  },
  {
   "cell_type": "code",
   "execution_count": 26,
   "metadata": {},
   "outputs": [
    {
     "data": {
      "text/plain": [
       "0.0"
      ]
     },
     "execution_count": 26,
     "metadata": {},
     "output_type": "execute_result"
    }
   ],
   "source": [
    "env.simulator.devices[4].p_min"
   ]
  },
  {
   "cell_type": "code",
   "execution_count": 6,
   "metadata": {},
   "outputs": [
    {
     "data": {
      "text/plain": [
       "array([-0.02, -0.2 ,  0.  ,  0.3 ,  0.4 ,  0.58])"
      ]
     },
     "execution_count": 6,
     "metadata": {},
     "output_type": "execute_result"
    }
   ],
   "source": [
    "env.next_vars(state)/100"
   ]
  },
  {
   "cell_type": "code",
   "execution_count": 7,
   "metadata": {},
   "outputs": [
    {
     "data": {
      "text/plain": [
       "array([-0.02, -0.2 ,  0.  ,  0.3 ,  0.4 ])"
      ]
     },
     "execution_count": 7,
     "metadata": {},
     "output_type": "execute_result"
    }
   ],
   "source": [
    "state[[1,3,5,2, 4]]/100"
   ]
  },
  {
   "cell_type": "code",
   "execution_count": null,
   "metadata": {},
   "outputs": [],
   "source": []
  },
  {
   "cell_type": "code",
   "execution_count": 8,
   "metadata": {},
   "outputs": [
    {
     "data": {
      "text/plain": [
       "array([ 0.        ,  0.        ,  0.        ,  0.        ,  0.        ,\n",
       "        0.        ,  0.        ,  0.        ,  0.        ,  0.        ,\n",
       "        0.        ,  0.        ,  0.        ,  0.        ,  0.        ,\n",
       "        0.        ,  0.        ,  0.        ,  0.        ,  0.        ,\n",
       "        0.        ,  0.        ,  0.        ,  0.        ,  0.        ,\n",
       "        0.5       ,  1.        ,  1.5       ,  2.        ,  2.5       ,\n",
       "        3.        ,  3.5       ,  4.        ,  4.        ,  4.        ,\n",
       "        4.        ,  4.        ,  4.        ,  4.        ,  4.        ,\n",
       "        4.        ,  4.        ,  4.        ,  4.        ,  4.        ,\n",
       "        7.25      , 12.16666667, 17.08333333, 22.        , 26.91666667,\n",
       "       31.83333333, 36.75      , 30.        , 30.        , 30.        ,\n",
       "       30.        , 30.        , 30.        , 30.        , 30.        ,\n",
       "       30.        , 30.        , 30.        , 30.        , 30.        ,\n",
       "       36.75      , 31.83333333, 26.91666667, 22.        , 17.08333333,\n",
       "       12.16666667,  7.25      ,  4.        ,  4.        ,  4.        ,\n",
       "        4.        ,  4.        ,  4.        ,  4.        ,  4.        ,\n",
       "        4.        ,  4.        ,  4.        ,  4.        ,  4.        ,\n",
       "        3.5       ,  3.        ,  2.5       ,  2.        ,  1.5       ,\n",
       "        1.        ,  0.5       ,  0.        ,  0.        ,  0.        ,\n",
       "        0.        ])"
      ]
     },
     "execution_count": 8,
     "metadata": {},
     "output_type": "execute_result"
    }
   ],
   "source": [
    "env.P_maxs[0]"
   ]
  },
  {
   "cell_type": "code",
   "execution_count": 9,
   "metadata": {},
   "outputs": [
    {
     "data": {
      "text/plain": [
       "array([40.        , 40.        , 40.        , 40.        , 40.        ,\n",
       "       40.        , 40.        , 40.        , 40.        , 40.        ,\n",
       "       40.        , 40.        , 40.        , 40.        , 40.        ,\n",
       "       40.        , 40.        , 40.        , 40.        , 40.        ,\n",
       "       40.        , 40.        , 40.        , 40.        , 40.        ,\n",
       "       36.375     , 32.75      , 29.125     , 25.5       , 21.875     ,\n",
       "       18.25      , 14.625     , 11.        , 11.        , 11.        ,\n",
       "       11.        , 11.        , 11.        , 11.        , 11.        ,\n",
       "       11.        , 11.        , 11.        , 11.        , 11.        ,\n",
       "       14.725     , 18.33333333, 21.94166667, 25.55      , 29.15833333,\n",
       "       32.76666667, 36.375     , 40.        , 40.        , 40.        ,\n",
       "       40.        , 40.        , 40.        , 40.        , 40.        ,\n",
       "       40.        , 40.        , 40.        , 40.        , 40.        ,\n",
       "       36.375     , 32.76666667, 29.15833333, 25.55      , 21.94166667,\n",
       "       18.33333333, 14.725     , 11.        , 11.        , 11.        ,\n",
       "       11.        , 11.        , 11.        , 11.        , 11.        ,\n",
       "       11.        , 11.        , 11.        , 11.        , 11.        ,\n",
       "       14.625     , 18.25      , 21.875     , 25.5       , 29.125     ,\n",
       "       32.75      , 36.375     , 40.        , 40.        , 40.        ,\n",
       "       40.        ])"
      ]
     },
     "execution_count": 9,
     "metadata": {},
     "output_type": "execute_result"
    }
   ],
   "source": [
    "env.P_maxs[1]"
   ]
  },
  {
   "cell_type": "code",
   "execution_count": 10,
   "metadata": {},
   "outputs": [
    {
     "data": {
      "text/plain": [
       "40.0"
      ]
     },
     "execution_count": 10,
     "metadata": {},
     "output_type": "execute_result"
    }
   ],
   "source": [
    "env.P_maxs[1].max()"
   ]
  },
  {
   "cell_type": "code",
   "execution_count": 11,
   "metadata": {},
   "outputs": [
    {
     "data": {
      "text/plain": [
       "[30.0, 50.0]"
      ]
     },
     "execution_count": 11,
     "metadata": {},
     "output_type": "execute_result"
    }
   ],
   "source": [
    "[\n",
    "                device[1].p_max * 100\n",
    "                for device in env.simulator.devices.items()\n",
    "                if device[1].type == 2\n",
    "            ]"
   ]
  },
  {
   "cell_type": "code",
   "execution_count": 12,
   "metadata": {},
   "outputs": [
    {
     "data": {
      "text/plain": [
       "array([  0.,   0., -30., -50., -50., -50.])"
      ]
     },
     "execution_count": 12,
     "metadata": {},
     "output_type": "execute_result"
    }
   ],
   "source": [
    "env.action_space.low"
   ]
  },
  {
   "cell_type": "code",
   "execution_count": 13,
   "metadata": {},
   "outputs": [
    {
     "data": {
      "text/plain": [
       "array([[0.        , 0.        , 0.        , 0.        , 0.        ,\n",
       "        0.        , 0.        , 0.        , 0.        , 0.        ,\n",
       "        0.        , 0.        , 0.        , 0.        , 0.        ,\n",
       "        0.        , 0.        , 0.        , 0.        , 0.        ,\n",
       "        0.        , 0.        , 0.        , 0.        , 0.        ,\n",
       "        0.005     , 0.01      , 0.015     , 0.02      , 0.025     ,\n",
       "        0.03      , 0.035     , 0.04      , 0.04      , 0.04      ,\n",
       "        0.04      , 0.04      , 0.04      , 0.04      , 0.04      ,\n",
       "        0.04      , 0.04      , 0.04      , 0.04      , 0.04      ,\n",
       "        0.0725    , 0.12166667, 0.17083333, 0.22      , 0.26916667,\n",
       "        0.31833333, 0.3675    , 0.3       , 0.3       , 0.3       ,\n",
       "        0.3       , 0.3       , 0.3       , 0.3       , 0.3       ,\n",
       "        0.3       , 0.3       , 0.3       , 0.3       , 0.3       ,\n",
       "        0.3675    , 0.31833333, 0.26916667, 0.22      , 0.17083333,\n",
       "        0.12166667, 0.0725    , 0.04      , 0.04      , 0.04      ,\n",
       "        0.04      , 0.04      , 0.04      , 0.04      , 0.04      ,\n",
       "        0.04      , 0.04      , 0.04      , 0.04      , 0.04      ,\n",
       "        0.035     , 0.03      , 0.025     , 0.02      , 0.015     ,\n",
       "        0.01      , 0.005     , 0.        , 0.        , 0.        ,\n",
       "        0.        ],\n",
       "       [0.4       , 0.4       , 0.4       , 0.4       , 0.4       ,\n",
       "        0.4       , 0.4       , 0.4       , 0.4       , 0.4       ,\n",
       "        0.4       , 0.4       , 0.4       , 0.4       , 0.4       ,\n",
       "        0.4       , 0.4       , 0.4       , 0.4       , 0.4       ,\n",
       "        0.4       , 0.4       , 0.4       , 0.4       , 0.4       ,\n",
       "        0.36375   , 0.3275    , 0.29125   , 0.255     , 0.21875   ,\n",
       "        0.1825    , 0.14625   , 0.11      , 0.11      , 0.11      ,\n",
       "        0.11      , 0.11      , 0.11      , 0.11      , 0.11      ,\n",
       "        0.11      , 0.11      , 0.11      , 0.11      , 0.11      ,\n",
       "        0.14725   , 0.18333333, 0.21941667, 0.2555    , 0.29158333,\n",
       "        0.32766667, 0.36375   , 0.4       , 0.4       , 0.4       ,\n",
       "        0.4       , 0.4       , 0.4       , 0.4       , 0.4       ,\n",
       "        0.4       , 0.4       , 0.4       , 0.4       , 0.4       ,\n",
       "        0.36375   , 0.32766667, 0.29158333, 0.2555    , 0.21941667,\n",
       "        0.18333333, 0.14725   , 0.11      , 0.11      , 0.11      ,\n",
       "        0.11      , 0.11      , 0.11      , 0.11      , 0.11      ,\n",
       "        0.11      , 0.11      , 0.11      , 0.11      , 0.11      ,\n",
       "        0.14625   , 0.1825    , 0.21875   , 0.255     , 0.29125   ,\n",
       "        0.3275    , 0.36375   , 0.4       , 0.4       , 0.4       ,\n",
       "        0.4       ]])"
      ]
     },
     "execution_count": 13,
     "metadata": {},
     "output_type": "execute_result"
    }
   ],
   "source": [
    "env.P_maxs/100"
   ]
  },
  {
   "cell_type": "code",
   "execution_count": 24,
   "metadata": {},
   "outputs": [
    {
     "data": {
      "text/plain": [
       "<gym_anm.simulator.components.devices.RenewableGen at 0x1260e3800>"
      ]
     },
     "execution_count": 24,
     "metadata": {},
     "output_type": "execute_result"
    }
   ],
   "source": [
    "env.simulator.devices[2]"
   ]
  },
  {
   "cell_type": "code",
   "execution_count": 15,
   "metadata": {},
   "outputs": [
    {
     "ename": "FileNotFoundError",
     "evalue": "[Errno 2] No such file or directory: 'dataset_loads.pkl'",
     "output_type": "error",
     "traceback": [
      "\u001b[0;31m---------------------------------------------------------------------------\u001b[0m",
      "\u001b[0;31mFileNotFoundError\u001b[0m                         Traceback (most recent call last)",
      "Cell \u001b[0;32mIn[15], line 2\u001b[0m\n\u001b[1;32m      1\u001b[0m \u001b[38;5;28;01mfrom\u001b[39;00m \u001b[38;5;21;01mpickle\u001b[39;00m \u001b[38;5;28;01mimport\u001b[39;00m load\n\u001b[0;32m----> 2\u001b[0m ds \u001b[38;5;241m=\u001b[39m load(\u001b[38;5;28;43mopen\u001b[39;49m\u001b[43m(\u001b[49m\u001b[38;5;124;43m\"\u001b[39;49m\u001b[38;5;124;43mdataset_loads.pkl\u001b[39;49m\u001b[38;5;124;43m\"\u001b[39;49m\u001b[43m,\u001b[49m\u001b[43m \u001b[49m\u001b[38;5;124;43m\"\u001b[39;49m\u001b[38;5;124;43mrb\u001b[39;49m\u001b[38;5;124;43m\"\u001b[39;49m\u001b[43m)\u001b[49m)\n",
      "File \u001b[0;32m~/miniforge3/envs/KKT-NN/lib/python3.12/site-packages/IPython/core/interactiveshell.py:324\u001b[0m, in \u001b[0;36m_modified_open\u001b[0;34m(file, *args, **kwargs)\u001b[0m\n\u001b[1;32m    317\u001b[0m \u001b[38;5;28;01mif\u001b[39;00m file \u001b[38;5;129;01min\u001b[39;00m {\u001b[38;5;241m0\u001b[39m, \u001b[38;5;241m1\u001b[39m, \u001b[38;5;241m2\u001b[39m}:\n\u001b[1;32m    318\u001b[0m     \u001b[38;5;28;01mraise\u001b[39;00m \u001b[38;5;167;01mValueError\u001b[39;00m(\n\u001b[1;32m    319\u001b[0m         \u001b[38;5;124mf\u001b[39m\u001b[38;5;124m\"\u001b[39m\u001b[38;5;124mIPython won\u001b[39m\u001b[38;5;124m'\u001b[39m\u001b[38;5;124mt let you open fd=\u001b[39m\u001b[38;5;132;01m{\u001b[39;00mfile\u001b[38;5;132;01m}\u001b[39;00m\u001b[38;5;124m by default \u001b[39m\u001b[38;5;124m\"\u001b[39m\n\u001b[1;32m    320\u001b[0m         \u001b[38;5;124m\"\u001b[39m\u001b[38;5;124mas it is likely to crash IPython. If you know what you are doing, \u001b[39m\u001b[38;5;124m\"\u001b[39m\n\u001b[1;32m    321\u001b[0m         \u001b[38;5;124m\"\u001b[39m\u001b[38;5;124myou can use builtins\u001b[39m\u001b[38;5;124m'\u001b[39m\u001b[38;5;124m open.\u001b[39m\u001b[38;5;124m\"\u001b[39m\n\u001b[1;32m    322\u001b[0m     )\n\u001b[0;32m--> 324\u001b[0m \u001b[38;5;28;01mreturn\u001b[39;00m \u001b[43mio_open\u001b[49m\u001b[43m(\u001b[49m\u001b[43mfile\u001b[49m\u001b[43m,\u001b[49m\u001b[43m \u001b[49m\u001b[38;5;241;43m*\u001b[39;49m\u001b[43margs\u001b[49m\u001b[43m,\u001b[49m\u001b[43m \u001b[49m\u001b[38;5;241;43m*\u001b[39;49m\u001b[38;5;241;43m*\u001b[39;49m\u001b[43mkwargs\u001b[49m\u001b[43m)\u001b[49m\n",
      "\u001b[0;31mFileNotFoundError\u001b[0m: [Errno 2] No such file or directory: 'dataset_loads.pkl'"
     ]
    }
   ],
   "source": [
    "from pickle import load\n",
    "ds = load(open(\"dataset_loads.pkl\", \"rb\"))"
   ]
  },
  {
   "cell_type": "code",
   "execution_count": null,
   "metadata": {},
   "outputs": [
    {
     "data": {
      "text/plain": [
       "(array([ 2.59981230e+01,  4.07813732e+01, -5.65430813e+00, -4.97427474e+01,\n",
       "         3.28519440e+01, -1.72633029e+01,  4.00000000e-02,  1.10000000e-01]),\n",
       " array([0.04     , 0.11     , 0.0031379]))"
      ]
     },
     "execution_count": 15,
     "metadata": {},
     "output_type": "execute_result"
    }
   ],
   "source": [
    "ds[0]"
   ]
  },
  {
   "cell_type": "code",
   "execution_count": null,
   "metadata": {},
   "outputs": [],
   "source": []
  },
  {
   "cell_type": "code",
   "execution_count": null,
   "metadata": {},
   "outputs": [],
   "source": [
    "ds = load(open(\"dataset_loads.pkl\", \"rb\"))\n",
    "X, y = ds[0]\n",
    "X = np.array(X)[..., [0,1,2,3,6,7]]\n",
    "y = np.array(y)[..., [0,1,3,4]]"
   ]
  },
  {
   "cell_type": "code",
   "execution_count": null,
   "metadata": {},
   "outputs": [],
   "source": [
    "actions = X[..., :4]\n",
    "P_pots = X[...,4:]"
   ]
  },
  {
   "cell_type": "code",
   "execution_count": null,
   "metadata": {},
   "outputs": [],
   "source": [
    "G_val = np.array(\n",
    "                [\n",
    "                    [-1, 0, 0, 0],\n",
    "                    [1, 0, 0 ,0],\n",
    "                    [1, 0, 0, 0],\n",
    "                    [0, 0, -1 ,0],\n",
    "                    [0, 0, 1 ,0],\n",
    "                    [1.5, 0, 1,0],\n",
    "                    [1.5, 0, -1, 0],\n",
    "                    [0, -1,0, 0],\n",
    "                    [0, 1, 0 ,0],\n",
    "                    [0, 1, 0, 0],\n",
    "                    [0, 0, 0 ,-1],\n",
    "                    [0, 0, 0 ,1],\n",
    "                    [0, 2.0,0 ,1],\n",
    "                    [0, 2.0, 0, -1],\n",
    "                ]\n",
    "            )\n",
    "\n",
    "h_val = np.array(\n",
    "                [\n",
    "                    [-0.0000, 0.3000, 0.0400, 0.3000, 0.3000, 0.6000, 0.6000, -0.0000, 0.5000,\n",
    "        0.1100, 0.5000, 0.5000, 1.2000, 1.2000]\n",
    "                ],\n",
    "            )"
   ]
  },
  {
   "cell_type": "code",
   "execution_count": null,
   "metadata": {},
   "outputs": [],
   "source": [
    "h_val[..., 2] = P_pots[..., 0]\n",
    "h_val[..., 9] = P_pots[..., 1]"
   ]
  },
  {
   "cell_type": "code",
   "execution_count": null,
   "metadata": {},
   "outputs": [
    {
     "data": {
      "text/plain": [
       "array([ 0.13013569,  0.13316806,  0.08685118,  0.40273407, -0.4556762 ,\n",
       "        0.08387917])"
      ]
     },
     "execution_count": 31,
     "metadata": {},
     "output_type": "execute_result"
    }
   ],
   "source": [
    "action/100"
   ]
  },
  {
   "cell_type": "code",
   "execution_count": null,
   "metadata": {},
   "outputs": [
    {
     "data": {
      "text/plain": [
       "array([0. , 0.4])"
      ]
     },
     "execution_count": 30,
     "metadata": {},
     "output_type": "execute_result"
    }
   ],
   "source": [
    "P_pots"
   ]
  },
  {
   "cell_type": "code",
   "execution_count": null,
   "metadata": {},
   "outputs": [
    {
     "data": {
      "text/plain": [
       "array([[-0.13013569, -0.16986431,  0.13013569, -0.38685118, -0.21314882,\n",
       "        -0.31794529, -0.49164764, -0.13316806, -0.36683194, -0.26683194,\n",
       "        -0.90273407, -0.09726593, -0.53092981, -1.33639796]])"
      ]
     },
     "execution_count": 35,
     "metadata": {},
     "output_type": "execute_result"
    }
   ],
   "source": [
    "(np.matmul(G_val, (action[:4]/100).T).T - h_val)"
   ]
  },
  {
   "cell_type": "code",
   "execution_count": null,
   "metadata": {},
   "outputs": [
    {
     "data": {
      "text/plain": [
       "array([[0.00000000e+00, 0.00000000e+00, 0.00000000e+00, 0.00000000e+00,\n",
       "        0.00000000e+00, 0.00000000e+00, 0.00000000e+00, 0.00000000e+00,\n",
       "        0.00000000e+00, 5.55111512e-17, 0.00000000e+00, 0.00000000e+00,\n",
       "        0.00000000e+00, 0.00000000e+00]])"
      ]
     },
     "execution_count": 26,
     "metadata": {},
     "output_type": "execute_result"
    }
   ],
   "source": [
    "np.maximum((np.matmul(G_val, y.T).T - h_val), 0)"
   ]
  }
 ],
 "metadata": {
  "kernelspec": {
   "display_name": "KKT_NN",
   "language": "python",
   "name": "python3"
  },
  "language_info": {
   "codemirror_mode": {
    "name": "ipython",
    "version": 3
   },
   "file_extension": ".py",
   "mimetype": "text/x-python",
   "name": "python",
   "nbconvert_exporter": "python",
   "pygments_lexer": "ipython3",
   "version": "3.12.4"
  }
 },
 "nbformat": 4,
 "nbformat_minor": 2
}
