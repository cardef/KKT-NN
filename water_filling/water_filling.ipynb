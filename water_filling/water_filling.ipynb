{
 "cells": [
  {
   "cell_type": "code",
   "execution_count": 19,
   "metadata": {},
   "outputs": [],
   "source": [
    "import numpy as np\n",
    "import cvxpy as cp"
   ]
  },
  {
   "cell_type": "code",
   "execution_count": 20,
   "metadata": {},
   "outputs": [],
   "source": [
    "def water_filling(n, a, sum_x=1):\n",
    "\t'''\n",
    "\tBoyd and Vandenberghe, Convex Optimization, example 5.2 page 145\n",
    "\tWater-filling.\n",
    "\n",
    "\tThis problem arises in information theory, in allocating power to a set of\n",
    "\tn communication channels in order to maximise the total channel capacity.\n",
    "\tThe variable x_i represents the transmitter power allocated to the ith channel,\n",
    "\tand log(α_i+x_i) gives the capacity or maximum communication rate of the channel.\n",
    "\tThe objective is to minimise -∑log(α_i+x_i) subject to the constraint ∑x_i = 1\n",
    "\t'''\n",
    "\n",
    "\t# Declare variables and parameters\n",
    "\tx = cp.Variable(shape=n)\n",
    "\talpha = cp.Parameter(n, nonneg=True)\n",
    "\talpha.value = a\n",
    "\n",
    "\t# Choose objective function. Interpret as maximising the total communication rate of all the channels\n",
    "\tobj = cp.Maximize(cp.sum(cp.log(alpha + x)))\n",
    "\n",
    "\t# Declare constraints\n",
    "\tconstraints = [x >= 0, cp.sum(x) - sum_x == 0]\n",
    "\n",
    "\t# Solve\n",
    "\tprob = cp.Problem(obj, constraints)\n",
    "\tprob.solve()\n",
    "\tif(prob.status=='optimal'):\n",
    "\t\treturn prob.status, prob.value, x.value\n",
    "\telse:\n",
    "\t\treturn prob.status, np.nan, np.nan"
   ]
  },
  {
   "cell_type": "code",
   "execution_count": 21,
   "metadata": {},
   "outputs": [],
   "source": [
    "buckets = 20\n",
    "alpha = np.random.rand(buckets)\n"
   ]
  },
  {
   "cell_type": "code",
   "execution_count": 22,
   "metadata": {},
   "outputs": [
    {
     "name": "stdout",
     "output_type": "stream",
     "text": [
      "Problem status: optimal\n",
      "Optimal communication rate = 7.334 \n",
      "Transmitter powers:\n",
      "[0.96333793 1.33577852 0.45859963 0.6401124  1.41673003 1.06805109\n",
      " 1.15386308 1.10012058 0.58716951 0.60130123 0.93345812 1.13755313\n",
      " 1.30512893 1.23581804 1.36761027 1.03370868 0.75003383 0.47889851\n",
      " 1.13109245 1.30163401]\n"
     ]
    }
   ],
   "source": [
    "stat, prob, x = water_filling(buckets, alpha, buckets)\n",
    "print('Problem status: {}'.format(stat))\n",
    "print('Optimal communication rate = {:.4g} '.format(prob))\n",
    "print('Transmitter powers:\\n{}'.format(x))"
   ]
  },
  {
   "cell_type": "code",
   "execution_count": 23,
   "metadata": {},
   "outputs": [
    {
     "name": "stderr",
     "output_type": "stream",
     "text": [
      "100%|██████████| 10000/10000 [00:30<00:00, 325.63it/s]\n"
     ]
    }
   ],
   "source": [
    "ds = []\n",
    "from tqdm import trange\n",
    "for i in trange(10000):\n",
    "\talpha = 1.5*np.random.rand(buckets) + 0.5\n",
    "\t\n",
    "\tstat, prob, x = water_filling(buckets, alpha, 1)\n",
    "\tif x is not np.nan:\n",
    "\t\tds.append((alpha, x))"
   ]
  },
  {
   "cell_type": "code",
   "execution_count": 24,
   "metadata": {},
   "outputs": [
    {
     "ename": "ValueError",
     "evalue": "Invalid dimensions (3,) for Parameter value.",
     "output_type": "error",
     "traceback": [
      "\u001b[0;31m---------------------------------------------------------------------------\u001b[0m",
      "\u001b[0;31mValueError\u001b[0m                                Traceback (most recent call last)",
      "Cell \u001b[0;32mIn[24], line 2\u001b[0m\n\u001b[1;32m      1\u001b[0m alpha \u001b[38;5;241m=\u001b[39m np\u001b[38;5;241m.\u001b[39marray([\u001b[38;5;241m0.8\u001b[39m, \u001b[38;5;241m1.0\u001b[39m ,\u001b[38;5;241m1.2\u001b[39m])\n\u001b[0;32m----> 2\u001b[0m stat, prob, x \u001b[38;5;241m=\u001b[39m \u001b[43mwater_filling\u001b[49m\u001b[43m(\u001b[49m\u001b[43mbuckets\u001b[49m\u001b[43m,\u001b[49m\u001b[43m \u001b[49m\u001b[43malpha\u001b[49m\u001b[43m,\u001b[49m\u001b[43m \u001b[49m\u001b[38;5;241;43m1\u001b[39;49m\u001b[43m)\u001b[49m\n",
      "Cell \u001b[0;32mIn[20], line 16\u001b[0m, in \u001b[0;36mwater_filling\u001b[0;34m(n, a, sum_x)\u001b[0m\n\u001b[1;32m     14\u001b[0m x \u001b[38;5;241m=\u001b[39m cp\u001b[38;5;241m.\u001b[39mVariable(shape\u001b[38;5;241m=\u001b[39mn)\n\u001b[1;32m     15\u001b[0m alpha \u001b[38;5;241m=\u001b[39m cp\u001b[38;5;241m.\u001b[39mParameter(n, nonneg\u001b[38;5;241m=\u001b[39m\u001b[38;5;28;01mTrue\u001b[39;00m)\n\u001b[0;32m---> 16\u001b[0m \u001b[43malpha\u001b[49m\u001b[38;5;241;43m.\u001b[39;49m\u001b[43mvalue\u001b[49m \u001b[38;5;241m=\u001b[39m a\n\u001b[1;32m     18\u001b[0m \u001b[38;5;66;03m# Choose objective function. Interpret as maximising the total communication rate of all the channels\u001b[39;00m\n\u001b[1;32m     19\u001b[0m obj \u001b[38;5;241m=\u001b[39m cp\u001b[38;5;241m.\u001b[39mMaximize(cp\u001b[38;5;241m.\u001b[39msum(cp\u001b[38;5;241m.\u001b[39mlog(alpha \u001b[38;5;241m+\u001b[39m x)))\n",
      "File \u001b[0;32m~/miniforge3/envs/KKT-NN/lib/python3.12/site-packages/cvxpy/expressions/constants/parameter.py:87\u001b[0m, in \u001b[0;36mParameter.value\u001b[0;34m(self, val)\u001b[0m\n\u001b[1;32m     85\u001b[0m \u001b[38;5;129m@value\u001b[39m\u001b[38;5;241m.\u001b[39msetter\n\u001b[1;32m     86\u001b[0m \u001b[38;5;28;01mdef\u001b[39;00m \u001b[38;5;21mvalue\u001b[39m(\u001b[38;5;28mself\u001b[39m, val):\n\u001b[0;32m---> 87\u001b[0m     \u001b[38;5;28mself\u001b[39m\u001b[38;5;241m.\u001b[39m_value \u001b[38;5;241m=\u001b[39m \u001b[38;5;28;43mself\u001b[39;49m\u001b[38;5;241;43m.\u001b[39;49m\u001b[43m_validate_value\u001b[49m\u001b[43m(\u001b[49m\u001b[43mval\u001b[49m\u001b[43m)\u001b[49m\n",
      "File \u001b[0;32m~/miniforge3/envs/KKT-NN/lib/python3.12/site-packages/cvxpy/expressions/leaf.py:460\u001b[0m, in \u001b[0;36mLeaf._validate_value\u001b[0;34m(self, val)\u001b[0m\n\u001b[1;32m    458\u001b[0m val \u001b[38;5;241m=\u001b[39m intf\u001b[38;5;241m.\u001b[39mconvert(val)\n\u001b[1;32m    459\u001b[0m \u001b[38;5;28;01mif\u001b[39;00m intf\u001b[38;5;241m.\u001b[39mshape(val) \u001b[38;5;241m!=\u001b[39m \u001b[38;5;28mself\u001b[39m\u001b[38;5;241m.\u001b[39mshape:\n\u001b[0;32m--> 460\u001b[0m     \u001b[38;5;28;01mraise\u001b[39;00m \u001b[38;5;167;01mValueError\u001b[39;00m(\n\u001b[1;32m    461\u001b[0m         \u001b[38;5;124m\"\u001b[39m\u001b[38;5;124mInvalid dimensions \u001b[39m\u001b[38;5;132;01m%s\u001b[39;00m\u001b[38;5;124m for \u001b[39m\u001b[38;5;132;01m%s\u001b[39;00m\u001b[38;5;124m value.\u001b[39m\u001b[38;5;124m\"\u001b[39m \u001b[38;5;241m%\u001b[39m\n\u001b[1;32m    462\u001b[0m         (intf\u001b[38;5;241m.\u001b[39mshape(val), \u001b[38;5;28mself\u001b[39m\u001b[38;5;241m.\u001b[39m\u001b[38;5;18m__class__\u001b[39m\u001b[38;5;241m.\u001b[39m\u001b[38;5;18m__name__\u001b[39m)\n\u001b[1;32m    463\u001b[0m     )\n\u001b[1;32m    464\u001b[0m projection \u001b[38;5;241m=\u001b[39m \u001b[38;5;28mself\u001b[39m\u001b[38;5;241m.\u001b[39mproject(val)\n\u001b[1;32m    465\u001b[0m \u001b[38;5;66;03m# ^ might be a numpy array, or sparse scipy matrix.\u001b[39;00m\n",
      "\u001b[0;31mValueError\u001b[0m: Invalid dimensions (3,) for Parameter value."
     ]
    }
   ],
   "source": [
    "alpha = np.array([0.8, 1.0 ,1.2])\n",
    "stat, prob, x = water_filling(buckets, alpha, 1)"
   ]
  },
  {
   "cell_type": "code",
   "execution_count": null,
   "metadata": {},
   "outputs": [
    {
     "data": {
      "text/plain": [
       "array([0.53333977, 0.33333284, 0.13332738])"
      ]
     },
     "execution_count": 7,
     "metadata": {},
     "output_type": "execute_result"
    }
   ],
   "source": [
    "x"
   ]
  },
  {
   "cell_type": "code",
   "execution_count": null,
   "metadata": {},
   "outputs": [
    {
     "data": {
      "text/plain": [
       "array([1.36165943e-01, 8.63834049e-01, 7.04250557e-09])"
      ]
     },
     "execution_count": 8,
     "metadata": {},
     "output_type": "execute_result"
    }
   ],
   "source": [
    "ds[15][1]"
   ]
  },
  {
   "cell_type": "code",
   "execution_count": null,
   "metadata": {},
   "outputs": [],
   "source": [
    "from pickle import dump\n",
    "dump(ds, open(\"water_filling.pkl\", \"wb\"))"
   ]
  },
  {
   "cell_type": "code",
   "execution_count": null,
   "metadata": {},
   "outputs": [
    {
     "data": {
      "text/plain": [
       "(array([1.92031552, 1.42551773, 0.99026352]),\n",
       " array([7.26081215e-09, 2.82411140e-01, 7.17588851e-01]))"
      ]
     },
     "execution_count": 11,
     "metadata": {},
     "output_type": "execute_result"
    }
   ],
   "source": [
    "ds[-1]"
   ]
  },
  {
   "cell_type": "code",
   "execution_count": null,
   "metadata": {},
   "outputs": [],
   "source": []
  }
 ],
 "metadata": {
  "kernelspec": {
   "display_name": "KKT_NN",
   "language": "python",
   "name": "python3"
  },
  "language_info": {
   "codemirror_mode": {
    "name": "ipython",
    "version": 3
   },
   "file_extension": ".py",
   "mimetype": "text/x-python",
   "name": "python",
   "nbconvert_exporter": "python",
   "pygments_lexer": "ipython3",
   "version": "3.12.4"
  }
 },
 "nbformat": 4,
 "nbformat_minor": 2
}
