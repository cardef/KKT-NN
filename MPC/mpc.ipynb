{
 "cells": [
  {
   "cell_type": "code",
   "execution_count": 20,
   "metadata": {},
   "outputs": [],
   "source": [
    "from pypfopt.expected_returns import mean_historical_return\n",
    "from pypfopt.risk_models import CovarianceShrinkage\n",
    "import numpy as np\n",
    "import pandas as pd\n",
    "import cvxpy as cp\n",
    "import torch\n",
    "from copy import copy, deepcopy\n"
   ]
  },
  {
   "cell_type": "code",
   "execution_count": 21,
   "metadata": {},
   "outputs": [],
   "source": [
    "np.random.seed(42)"
   ]
  },
  {
   "cell_type": "code",
   "execution_count": 22,
   "metadata": {},
   "outputs": [],
   "source": [
    "n=10"
   ]
  },
  {
   "cell_type": "code",
   "execution_count": 23,
   "metadata": {},
   "outputs": [],
   "source": [
    "ds = []"
   ]
  },
  {
   "cell_type": "code",
   "execution_count": 24,
   "metadata": {},
   "outputs": [],
   "source": [
    "a_min = 0.7\n",
    "a_var = 0.3\n",
    "\n",
    "b_min = 0.1\n",
    "b_var = 0.4\n",
    "\n",
    "r_min = 0.0\n",
    "r_var = 1.0\n",
    "\n",
    "x_0_min = 0.0\n",
    "x_0_var = 1.0\n",
    "\n",
    "x_ref_min = 0.0\n",
    "x_ref_var = 1.0"
   ]
  },
  {
   "cell_type": "code",
   "execution_count": 25,
   "metadata": {},
   "outputs": [],
   "source": [
    "for i in range(1000):\n",
    "\t\n",
    "\ta=a_var*np.random.rand() + a_min\n",
    "\tb=b_var*np.random.rand() + b_min\n",
    "\tr = r_var*np.random.rand() + r_min\n",
    "\tx_0=  x_0_var*np.random.rand() + x_0_min\n",
    "\tx_ref = x_ref_var*np.array([np.random.rand()]*(n)) + x_ref_min\n",
    "\t\n",
    "\n",
    "\tL = r * np.identity(n)\n",
    "\tI = np.identity(n)\n",
    "\tA = np.array([a**(i+1) for i in range(n)])\n",
    "\tB = np.array([[a**(i-1) * b for i in range(j, 0, -1)] + [0]*(n-j) for j in range(1, n+1)])\n",
    "\n",
    "\tu = cp.Variable(n)\n",
    "\tconstraints = [u <= np.ones(n), -u <= np.zeros(n), (A*x_0 +B@u) <= np.ones(n), -(A*x_0 +B@u) <= np.zeros(n)]\n",
    "\tprob = cp.Problem(cp.Minimize(cp.quad_form(A*x_0 +B@u - x_ref, I) + cp.quad_form(u, L)), constraints)\n",
    "\tprob.solve()\n",
    "\tif prob.status == 'optimal': \n",
    "\t\tX = np.array([2*(a - a_min)/a_var -1, 2*(b - b_min)/b_var - 1, 2*(r - r_min)/r_var - 1, 2*(x_0-x_0_min)/x_0_var-1, 2*(x_ref[0]-x_ref_min)/x_ref_var -1])\n",
    "\t\tds.append([X, u.value])\n",
    "\t"
   ]
  },
  {
   "cell_type": "code",
   "execution_count": 5,
   "metadata": {},
   "outputs": [
    {
     "ename": "TypeError",
     "evalue": "expected Tensor as element 0 in argument 0, but got list",
     "output_type": "error",
     "traceback": [
      "\u001b[0;31m---------------------------------------------------------------------------\u001b[0m",
      "\u001b[0;31mTypeError\u001b[0m                                 Traceback (most recent call last)",
      "Cell \u001b[0;32mIn[5], line 2\u001b[0m\n\u001b[1;32m      1\u001b[0m \u001b[38;5;28;01mimport\u001b[39;00m \u001b[38;5;21;01mtorch\u001b[39;00m\n\u001b[0;32m----> 2\u001b[0m \u001b[43mtorch\u001b[49m\u001b[38;5;241;43m.\u001b[39;49m\u001b[43mstack\u001b[49m\u001b[43m(\u001b[49m\u001b[43m(\u001b[49m\u001b[43m[\u001b[49m\u001b[43mtorch\u001b[49m\u001b[38;5;241;43m.\u001b[39;49m\u001b[43mzeros\u001b[49m\u001b[43m(\u001b[49m\u001b[38;5;241;43m64\u001b[39;49m\u001b[43m)\u001b[49m\u001b[43m,\u001b[49m\u001b[43mtorch\u001b[49m\u001b[38;5;241;43m.\u001b[39;49m\u001b[43mones\u001b[49m\u001b[43m(\u001b[49m\u001b[38;5;241;43m64\u001b[39;49m\u001b[43m)\u001b[49m\u001b[43m]\u001b[49m\u001b[43m,\u001b[49m\u001b[43m \u001b[49m\u001b[43m[\u001b[49m\u001b[43mtorch\u001b[49m\u001b[38;5;241;43m.\u001b[39;49m\u001b[43mzeros\u001b[49m\u001b[43m(\u001b[49m\u001b[38;5;241;43m64\u001b[39;49m\u001b[43m)\u001b[49m\u001b[43m,\u001b[49m\u001b[43mtorch\u001b[49m\u001b[38;5;241;43m.\u001b[39;49m\u001b[43mones\u001b[49m\u001b[43m(\u001b[49m\u001b[38;5;241;43m64\u001b[39;49m\u001b[43m)\u001b[49m\u001b[43m]\u001b[49m\u001b[43m)\u001b[49m\u001b[43m,\u001b[49m\u001b[43m \u001b[49m\u001b[38;5;241;43m1\u001b[39;49m\u001b[43m)\u001b[49m\u001b[38;5;241m.\u001b[39mshape\n",
      "\u001b[0;31mTypeError\u001b[0m: expected Tensor as element 0 in argument 0, but got list"
     ]
    }
   ],
   "source": [
    "import torch\n",
    "torch.stack(([torch.zeros(64),torch.ones(64)], [torch.zeros(64),torch.ones(64)]), 1).shape"
   ]
  },
  {
   "cell_type": "code",
   "execution_count": 26,
   "metadata": {},
   "outputs": [],
   "source": [
    "from pickle import dump\n",
    "dump(ds, open(\"mpc.pkl\", \"wb\"))"
   ]
  },
  {
   "cell_type": "code",
   "execution_count": 27,
   "metadata": {},
   "outputs": [],
   "source": [
    "h = 0.01*np.random.rand() + 0.9"
   ]
  },
  {
   "cell_type": "code",
   "execution_count": 28,
   "metadata": {},
   "outputs": [
    {
     "data": {
      "text/plain": [
       "0.39363552027744664"
      ]
     },
     "execution_count": 28,
     "metadata": {},
     "output_type": "execute_result"
    }
   ],
   "source": [
    "(h - 0.9)/0.01"
   ]
  },
  {
   "cell_type": "code",
   "execution_count": 29,
   "metadata": {},
   "outputs": [
    {
     "data": {
      "text/plain": [
       "[array([-0.25091976,  0.90142861,  0.46398788,  0.19731697, -0.68796272]),\n",
       " array([-1.91062765e-23,  8.59048854e-24, -4.32526161e-23, -2.38765867e-23,\n",
       "        -1.23418140e-23,  9.32580229e-03,  2.80529280e-02,  3.52331447e-02,\n",
       "         3.39629952e-02,  2.36947145e-02])]"
      ]
     },
     "execution_count": 29,
     "metadata": {},
     "output_type": "execute_result"
    }
   ],
   "source": [
    "ds[0]"
   ]
  },
  {
   "cell_type": "code",
   "execution_count": 30,
   "metadata": {},
   "outputs": [
    {
     "data": {
      "text/plain": [
       "array([ 5.79305138e-23,  3.02001989e-23,  5.80117435e-23,  2.57773545e-24,\n",
       "       -3.31000664e-24, -4.34200912e-24, -7.21154871e-24, -3.70132630e-24,\n",
       "       -1.82119434e-25,  2.47927123e-04])"
      ]
     },
     "execution_count": 30,
     "metadata": {},
     "output_type": "execute_result"
    }
   ],
   "source": [
    "u.value"
   ]
  },
  {
   "cell_type": "code",
   "execution_count": 31,
   "metadata": {},
   "outputs": [
    {
     "data": {
      "text/plain": [
       "'optimal'"
      ]
     },
     "execution_count": 31,
     "metadata": {},
     "output_type": "execute_result"
    }
   ],
   "source": [
    "prob.status"
   ]
  },
  {
   "cell_type": "code",
   "execution_count": 32,
   "metadata": {},
   "outputs": [],
   "source": [
    "lambda_ = torch.tensor(constraints[1].dual_value)"
   ]
  },
  {
   "cell_type": "code",
   "execution_count": 33,
   "metadata": {},
   "outputs": [],
   "source": [
    "nu = torch.tensor(constraints[0].dual_value)"
   ]
  },
  {
   "cell_type": "code",
   "execution_count": 34,
   "metadata": {},
   "outputs": [],
   "source": [
    "rho = torch.tensor(constraints[2].dual_value)"
   ]
  },
  {
   "cell_type": "code",
   "execution_count": 35,
   "metadata": {},
   "outputs": [],
   "source": [
    "mu = torch.tensor(constraints[3].dual_value)"
   ]
  },
  {
   "cell_type": "code",
   "execution_count": null,
   "metadata": {},
   "outputs": [],
   "source": []
  },
  {
   "cell_type": "code",
   "execution_count": 36,
   "metadata": {},
   "outputs": [],
   "source": [
    "def grad_cost(U, x_t, x_ref, a, b, q, r):\n",
    "\tgrad = torch.zeros_like(U)\n",
    "\tx = x_t\n",
    "\tfor k in range(n):\n",
    "\t\tU_t = U[k].squeeze()\n",
    "\t\tx_next = a * x + b * U_t\n",
    "\t\tgrad[k] = 2 * b * q * (x_next - x_ref[k].squeeze()) + 2 * r * U_t\n",
    "\t\tx = x_next\n",
    "\treturn grad"
   ]
  },
  {
   "cell_type": "code",
   "execution_count": 37,
   "metadata": {},
   "outputs": [],
   "source": [
    "def kkt_loss(U, lambda_, mu, nu, rho, x_t, x_ref, a, b, q, r):\n",
    "\t\tU_min = 0.0\n",
    "\t\tU_max = 1.0\n",
    "\t\tT_min = 0.0\n",
    "\t\tT_max = 1.0\n",
    "\n",
    "\t\t# Violazione della stazionarietà\n",
    "\t\tgrad_J = grad_cost(U, x_t, x_ref, a, b, q, r)\n",
    "\t\tgrad_ineq_control = lambda_ - mu\n",
    "\t\tgrad_ineq_state = -b * nu + b * rho\n",
    "\t\tstationarity_violation = (grad_J + grad_ineq_control + grad_ineq_state).pow(2).sum()\n",
    "\n",
    "\t\t# Violazione della primal feasibility (controlli e stati)\n",
    "\t\tcontrol_feasibility = (torch.max(U_min - U, torch.zeros_like(U)) + torch.max(U - U_max, torch.zeros_like(U))).pow(2).sum()\n",
    "\n",
    "\t\tx = copy(x_t)\n",
    "\t\tstate_feasibility = 0\n",
    "\t\tfor k in range(n):\n",
    "\t\t\tU_t = U[..., k].squeeze()\n",
    "\t\t\tx = copy(a * x + b * U_t)\n",
    "\t\t\tstate_feasibility += (torch.max(T_min - x, torch.zeros_like(x)) + torch.max(x - T_max, torch.zeros_like(x))).pow(2).sum()\n",
    "\n",
    "\t\t# Violazione della complementarità\n",
    "\t\tcomp_control = lambda_ * (U - U_min) + mu * (U_max - U)\n",
    "\t\tcomp_state = 0\n",
    "\t\tx = copy(x_t)\n",
    "\t\tfor k in range(n):\n",
    "\t\t\tU_t = U[k].squeeze()\n",
    "\t\t\tx_next = a * x + b * U_t\n",
    "\t\t\tnu_t = nu[k].squeeze()\n",
    "\t\t\trho_t = rho[k].squeeze()\n",
    "\t\t\tcomp_state += (nu_t * (T_min - x_next) + rho_t * (x_next - T_max)).pow(2).sum()\n",
    "\t\t\tx = copy(x_next)\n",
    "\t\tcomp_loss = comp_control.pow(2).sum() + comp_state\n",
    "\n",
    "\t\t# Violazione della dual feasibility\n",
    "\n",
    "\t\t# Somma delle violazioni\n",
    "\t\treturn grad_J, stationarity_violation, control_feasibility,state_feasibility,  comp_loss"
   ]
  },
  {
   "cell_type": "code",
   "execution_count": null,
   "metadata": {},
   "outputs": [],
   "source": []
  },
  {
   "cell_type": "code",
   "execution_count": 38,
   "metadata": {},
   "outputs": [
    {
     "ename": "NameError",
     "evalue": "name 'sol' is not defined",
     "output_type": "error",
     "traceback": [
      "\u001b[0;31m---------------------------------------------------------------------------\u001b[0m",
      "\u001b[0;31mNameError\u001b[0m                                 Traceback (most recent call last)",
      "Cell \u001b[0;32mIn[38], line 1\u001b[0m\n\u001b[0;32m----> 1\u001b[0m kkt_loss(\u001b[43msol\u001b[49m, lambda_, mu, nu, rho, t, t_ref, a, b, torch\u001b[38;5;241m.\u001b[39mtensor(\u001b[38;5;241m1\u001b[39m), pen)\n",
      "\u001b[0;31mNameError\u001b[0m: name 'sol' is not defined"
     ]
    }
   ],
   "source": [
    "kkt_loss(sol, lambda_, mu, nu, rho, t, t_ref, a, b, torch.tensor(1), pen)"
   ]
  },
  {
   "cell_type": "code",
   "execution_count": null,
   "metadata": {},
   "outputs": [],
   "source": [
    "grad = torch.zeros_like(sol)\n",
    "x = copy(t)\n",
    "for k in range(n):\n",
    "\tU_t = copy(sol[k].squeeze())\n",
    "\tx_next = a * x + b * U_t\n",
    "\tgrad[k] = 2 * b  * (x_next - t_ref[k].squeeze()) + 2 * pen * U_t- b*nu[k]\n",
    "\tx = copy(x_next)"
   ]
  },
  {
   "cell_type": "code",
   "execution_count": null,
   "metadata": {},
   "outputs": [
    {
     "data": {
      "text/plain": [
       "tensor([0., 0., 0., 0., 0.], dtype=torch.float64)"
      ]
     },
     "execution_count": 44,
     "metadata": {},
     "output_type": "execute_result"
    }
   ],
   "source": [
    "lambda_"
   ]
  },
  {
   "cell_type": "code",
   "execution_count": null,
   "metadata": {},
   "outputs": [
    {
     "data": {
      "text/plain": [
       "tensor([0.3827, 0.3616, 0.3281, 0.2713, 0.1726], dtype=torch.float64)"
      ]
     },
     "execution_count": 45,
     "metadata": {},
     "output_type": "execute_result"
    }
   ],
   "source": [
    "sol"
   ]
  },
  {
   "cell_type": "code",
   "execution_count": null,
   "metadata": {},
   "outputs": [
    {
     "data": {
      "text/plain": [
       "tensor([1.0003e-01, 9.0769e-02, 7.5044e-02, 4.7745e-02, 4.8572e-17],\n",
       "       dtype=torch.float64)"
      ]
     },
     "execution_count": 46,
     "metadata": {},
     "output_type": "execute_result"
    }
   ],
   "source": [
    "grad"
   ]
  },
  {
   "cell_type": "code",
   "execution_count": null,
   "metadata": {},
   "outputs": [
    {
     "data": {
      "text/plain": [
       "0.17584272646532612"
      ]
     },
     "execution_count": 47,
     "metadata": {},
     "output_type": "execute_result"
    }
   ],
   "source": [
    "pen"
   ]
  },
  {
   "cell_type": "code",
   "execution_count": null,
   "metadata": {},
   "outputs": [
    {
     "data": {
      "text/plain": [
       "tensor(0.3827, dtype=torch.float64)"
      ]
     },
     "execution_count": 48,
     "metadata": {},
     "output_type": "execute_result"
    }
   ],
   "source": [
    "sol[0]"
   ]
  },
  {
   "cell_type": "code",
   "execution_count": null,
   "metadata": {},
   "outputs": [],
   "source": []
  },
  {
   "cell_type": "code",
   "execution_count": null,
   "metadata": {},
   "outputs": [
    {
     "data": {
      "text/plain": [
       "tensor(0.3484, dtype=torch.float64)"
      ]
     },
     "execution_count": 49,
     "metadata": {},
     "output_type": "execute_result"
    }
   ],
   "source": [
    "a * t + b * sol[0]"
   ]
  },
  {
   "cell_type": "code",
   "execution_count": null,
   "metadata": {},
   "outputs": [
    {
     "data": {
      "text/plain": [
       "0.4382834245890117"
      ]
     },
     "execution_count": 50,
     "metadata": {},
     "output_type": "execute_result"
    }
   ],
   "source": [
    "t_ref[0].squeeze()"
   ]
  }
 ],
 "metadata": {
  "kernelspec": {
   "display_name": "KKT_NN",
   "language": "python",
   "name": "python3"
  },
  "language_info": {
   "codemirror_mode": {
    "name": "ipython",
    "version": 3
   },
   "file_extension": ".py",
   "mimetype": "text/x-python",
   "name": "python",
   "nbconvert_exporter": "python",
   "pygments_lexer": "ipython3",
   "version": "3.12.4"
  }
 },
 "nbformat": 4,
 "nbformat_minor": 2
}
