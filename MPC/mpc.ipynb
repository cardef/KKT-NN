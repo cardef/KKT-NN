{
 "cells": [
  {
   "cell_type": "code",
   "execution_count": 195,
   "metadata": {},
   "outputs": [],
   "source": [
    "from pypfopt.expected_returns import mean_historical_return\n",
    "from pypfopt.risk_models import CovarianceShrinkage\n",
    "import numpy as np\n",
    "import pandas as pd\n",
    "import cvxpy as cp\n",
    "import torch\n",
    "from copy import copy, deepcopy\n"
   ]
  },
  {
   "cell_type": "code",
   "execution_count": 196,
   "metadata": {},
   "outputs": [],
   "source": [
    "n=5"
   ]
  },
  {
   "cell_type": "code",
   "execution_count": 197,
   "metadata": {},
   "outputs": [],
   "source": [
    "pen = 0.1\n",
    "a=0.9\n",
    "b=0.1\n",
    "t= 0.3\n",
    "t_ref = 0.6*np.ones(n)"
   ]
  },
  {
   "cell_type": "code",
   "execution_count": 198,
   "metadata": {},
   "outputs": [
    {
     "data": {
      "text/plain": [
       "0.04404471390953668"
      ]
     },
     "execution_count": 198,
     "metadata": {},
     "output_type": "execute_result"
    }
   ],
   "source": [
    "np.random.rand()"
   ]
  },
  {
   "cell_type": "code",
   "execution_count": 199,
   "metadata": {},
   "outputs": [],
   "source": [
    "ds = []"
   ]
  },
  {
   "cell_type": "code",
   "execution_count": 200,
   "metadata": {},
   "outputs": [],
   "source": [
    "for i in range(1000):\n",
    "\tpen = 0.3*np.random.rand() + 0.1\n",
    "\ta=0.4*np.random.rand() + 0.6\n",
    "\tb=0.2*np.random.rand() +0.1\n",
    "\tt= np.random.rand()\n",
    "\tt_ref = np.array([np.random.rand()]*(n))\n",
    "\t\n",
    "\tpen = 0.1\n",
    "\ta = 0.9\n",
    "\tb = 0.1\n",
    "\tQ = np.identity(n)\n",
    "\tL = pen * np.identity(n)\n",
    "\tI = np.identity(n)\n",
    "\tA = np.array([a**(i+1) for i in range(n)])\n",
    "\tB = np.array([[a**(i-1) * b for i in range(j, 0, -1)] + [0]*(n-j) for j in range(1, n+1)])\n",
    "\n",
    "\tx = cp.Variable(n)\n",
    "\tconstraints = [x <= np.ones(n), -x <= np.zeros(n), (A*t +B@x) <= np.ones(n), -(A*t +B@x) <= np.zeros(n)]\n",
    "\tprob = cp.Problem(cp.Minimize(cp.quad_form(A*t +B@x - t_ref, I) + cp.quad_form(x, L)), constraints)\n",
    "\tprob.solve()\n",
    "\tif prob.status == 'optimal': ds.append((np.array([t, t_ref[0]]), x.value))\n",
    "\t"
   ]
  },
  {
   "cell_type": "code",
   "execution_count": 201,
   "metadata": {},
   "outputs": [
    {
     "data": {
      "text/plain": [
       "'optimal'"
      ]
     },
     "execution_count": 201,
     "metadata": {},
     "output_type": "execute_result"
    }
   ],
   "source": [
    "prob.status"
   ]
  },
  {
   "cell_type": "code",
   "execution_count": 202,
   "metadata": {},
   "outputs": [
    {
     "data": {
      "text/plain": [
       "array([1.        , 1.        , 1.        , 0.84343339, 0.44372603])"
      ]
     },
     "execution_count": 202,
     "metadata": {},
     "output_type": "execute_result"
    }
   ],
   "source": [
    "x.value"
   ]
  },
  {
   "cell_type": "code",
   "execution_count": 203,
   "metadata": {},
   "outputs": [],
   "source": [
    "sol = torch.tensor(x.value)"
   ]
  },
  {
   "cell_type": "code",
   "execution_count": 204,
   "metadata": {},
   "outputs": [],
   "source": [
    "lambda_ = torch.tensor(constraints[1].dual_value)"
   ]
  },
  {
   "cell_type": "code",
   "execution_count": 205,
   "metadata": {},
   "outputs": [],
   "source": [
    "nu = torch.tensor(constraints[0].dual_value)"
   ]
  },
  {
   "cell_type": "code",
   "execution_count": 206,
   "metadata": {},
   "outputs": [],
   "source": [
    "rho = torch.tensor(constraints[2].dual_value)"
   ]
  },
  {
   "cell_type": "code",
   "execution_count": 207,
   "metadata": {},
   "outputs": [],
   "source": [
    "mu = torch.tensor(constraints[3].dual_value)"
   ]
  },
  {
   "cell_type": "code",
   "execution_count": 208,
   "metadata": {},
   "outputs": [],
   "source": [
    "from pickle import dump\n",
    "dump(ds, open(\"mpc.pkl\", \"wb\"))"
   ]
  },
  {
   "cell_type": "code",
   "execution_count": 209,
   "metadata": {},
   "outputs": [],
   "source": [
    "def grad_cost(U, x_t, x_ref, a, b, q, r):\n",
    "\tgrad = torch.zeros_like(U)\n",
    "\tx = x_t\n",
    "\tfor k in range(n):\n",
    "\t\tU_t = U[k].squeeze()\n",
    "\t\tx_next = a * x + b * U_t\n",
    "\t\tgrad[k] = 2 * b * q * (x_next - x_ref[k].squeeze()) + 2 * r * U_t\n",
    "\t\tx = x_next\n",
    "\treturn grad"
   ]
  },
  {
   "cell_type": "code",
   "execution_count": 210,
   "metadata": {},
   "outputs": [],
   "source": [
    "def kkt_loss(U, lambda_, mu, nu, rho, x_t, x_ref, a, b, q, r):\n",
    "        U_min = 0.0\n",
    "        U_max = 1.0\n",
    "        T_min = 0.0\n",
    "        T_max = 1.0\n",
    "\n",
    "        # Violazione della stazionarietà\n",
    "        grad_J = grad_cost(U, x_t, x_ref, a, b, q, r)\n",
    "        grad_ineq_control = lambda_ - mu\n",
    "        grad_ineq_state = -b * nu + b * rho\n",
    "        stationarity_violation = (grad_J + grad_ineq_control + grad_ineq_state).pow(2).sum()\n",
    "\n",
    "        # Violazione della primal feasibility (controlli e stati)\n",
    "        control_feasibility = (torch.max(U_min - U, torch.zeros_like(U)) + torch.max(U - U_max, torch.zeros_like(U))).pow(2).sum()\n",
    "\n",
    "        x = copy(x_t)\n",
    "        state_feasibility = 0\n",
    "        for k in range(n):\n",
    "            U_t = U[..., k].squeeze()\n",
    "            x = copy(a * x + b * U_t)\n",
    "            state_feasibility += (torch.max(T_min - x, torch.zeros_like(x)) + torch.max(x - T_max, torch.zeros_like(x))).pow(2).sum()\n",
    "\n",
    "        # Violazione della complementarità\n",
    "        comp_control = lambda_ * (U - U_min) + mu * (U_max - U)\n",
    "        comp_state = 0\n",
    "        x = copy(x_t)\n",
    "        for k in range(n):\n",
    "            U_t = U[k].squeeze()\n",
    "            x_next = a * x + b * U_t\n",
    "            nu_t = nu[k].squeeze()\n",
    "            rho_t = rho[k].squeeze()\n",
    "            comp_state += (nu_t * (T_min - x_next) + rho_t * (x_next - T_max)).pow(2).sum()\n",
    "            x = copy(x_next)\n",
    "        comp_loss = comp_control.pow(2).sum() + comp_state\n",
    "\n",
    "        # Violazione della dual feasibility\n",
    "\n",
    "        # Somma delle violazioni\n",
    "        return grad_J, stationarity_violation, control_feasibility,state_feasibility,  comp_loss"
   ]
  },
  {
   "cell_type": "code",
   "execution_count": null,
   "metadata": {},
   "outputs": [],
   "source": []
  },
  {
   "cell_type": "code",
   "execution_count": 211,
   "metadata": {},
   "outputs": [
    {
     "data": {
      "text/plain": [
       "(tensor([ 7.3858e-02,  8.8787e-02,  1.0222e-01,  7.9871e-02, -1.3224e-09],\n",
       "        dtype=torch.float64),\n",
       " tensor(0.0241, dtype=torch.float64),\n",
       " tensor(0., dtype=torch.float64),\n",
       " tensor(0., dtype=torch.float64),\n",
       " tensor(0.0057, dtype=torch.float64))"
      ]
     },
     "execution_count": 211,
     "metadata": {},
     "output_type": "execute_result"
    }
   ],
   "source": [
    "kkt_loss(sol, lambda_, mu, nu, rho, t, t_ref, a, b, torch.tensor(1), pen)"
   ]
  },
  {
   "cell_type": "code",
   "execution_count": 212,
   "metadata": {},
   "outputs": [],
   "source": [
    "grad = torch.zeros_like(sol)\n",
    "x = copy(t)\n",
    "for k in range(n):\n",
    "\tU_t = copy(sol[k].squeeze())\n",
    "\tx_next = a * x + b * U_t\n",
    "\tgrad[k] = 2 * b  * (x_next - t_ref[k].squeeze()) + 2 * pen * U_t- b*nu[k]\n",
    "\tx = copy(x_next)"
   ]
  },
  {
   "cell_type": "code",
   "execution_count": 213,
   "metadata": {},
   "outputs": [
    {
     "data": {
      "text/plain": [
       "tensor([0., 0., 0., 0., 0.], dtype=torch.float64)"
      ]
     },
     "execution_count": 213,
     "metadata": {},
     "output_type": "execute_result"
    }
   ],
   "source": [
    "lambda_"
   ]
  },
  {
   "cell_type": "code",
   "execution_count": 214,
   "metadata": {},
   "outputs": [
    {
     "data": {
      "text/plain": [
       "tensor([1.0000, 1.0000, 1.0000, 0.8434, 0.4437], dtype=torch.float64)"
      ]
     },
     "execution_count": 214,
     "metadata": {},
     "output_type": "execute_result"
    }
   ],
   "source": [
    "sol"
   ]
  },
  {
   "cell_type": "code",
   "execution_count": 215,
   "metadata": {},
   "outputs": [
    {
     "data": {
      "text/plain": [
       "tensor([0.0510, 0.0752, 0.0973, 0.0799, 0.0000], dtype=torch.float64)"
      ]
     },
     "execution_count": 215,
     "metadata": {},
     "output_type": "execute_result"
    }
   ],
   "source": [
    "grad"
   ]
  },
  {
   "cell_type": "code",
   "execution_count": 216,
   "metadata": {},
   "outputs": [
    {
     "data": {
      "text/plain": [
       "0.1"
      ]
     },
     "execution_count": 216,
     "metadata": {},
     "output_type": "execute_result"
    }
   ],
   "source": [
    "pen"
   ]
  },
  {
   "cell_type": "code",
   "execution_count": 217,
   "metadata": {},
   "outputs": [
    {
     "data": {
      "text/plain": [
       "tensor(1., dtype=torch.float64)"
      ]
     },
     "execution_count": 217,
     "metadata": {},
     "output_type": "execute_result"
    }
   ],
   "source": [
    "sol[0]"
   ]
  },
  {
   "cell_type": "code",
   "execution_count": null,
   "metadata": {},
   "outputs": [],
   "source": []
  },
  {
   "cell_type": "code",
   "execution_count": 218,
   "metadata": {},
   "outputs": [
    {
     "data": {
      "text/plain": [
       "tensor(0.2536, dtype=torch.float64)"
      ]
     },
     "execution_count": 218,
     "metadata": {},
     "output_type": "execute_result"
    }
   ],
   "source": [
    "a * t + b * sol[0]"
   ]
  },
  {
   "cell_type": "code",
   "execution_count": 219,
   "metadata": {},
   "outputs": [
    {
     "data": {
      "text/plain": [
       "0.8842666862880384"
      ]
     },
     "execution_count": 219,
     "metadata": {},
     "output_type": "execute_result"
    }
   ],
   "source": [
    "t_ref[0].squeeze()"
   ]
  }
 ],
 "metadata": {
  "kernelspec": {
   "display_name": "KKT_NN",
   "language": "python",
   "name": "python3"
  },
  "language_info": {
   "codemirror_mode": {
    "name": "ipython",
    "version": 3
   },
   "file_extension": ".py",
   "mimetype": "text/x-python",
   "name": "python",
   "nbconvert_exporter": "python",
   "pygments_lexer": "ipython3",
   "version": "3.12.4"
  }
 },
 "nbformat": 4,
 "nbformat_minor": 2
}
