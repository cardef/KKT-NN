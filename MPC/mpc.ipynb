{
 "cells": [
  {
   "cell_type": "code",
   "execution_count": 352,
   "metadata": {},
   "outputs": [],
   "source": [
    "from pypfopt.expected_returns import mean_historical_return\n",
    "from pypfopt.risk_models import CovarianceShrinkage\n",
    "import numpy as np\n",
    "import pandas as pd\n",
    "import cvxpy as cp\n",
    "import torch\n",
    "from copy import copy, deepcopy\n"
   ]
  },
  {
   "cell_type": "code",
   "execution_count": 353,
   "metadata": {},
   "outputs": [],
   "source": [
    "n=5"
   ]
  },
  {
   "cell_type": "code",
   "execution_count": 354,
   "metadata": {},
   "outputs": [],
   "source": [
    "pen = 0.1\n",
    "a=0.9\n",
    "b=0.1\n",
    "t= 0.3\n",
    "t_ref = 0.6*np.ones(n)"
   ]
  },
  {
   "cell_type": "code",
   "execution_count": 355,
   "metadata": {},
   "outputs": [
    {
     "data": {
      "text/plain": [
       "0.009970348984377875"
      ]
     },
     "execution_count": 355,
     "metadata": {},
     "output_type": "execute_result"
    }
   ],
   "source": [
    "np.random.rand()"
   ]
  },
  {
   "cell_type": "code",
   "execution_count": 356,
   "metadata": {},
   "outputs": [],
   "source": [
    "ds = []"
   ]
  },
  {
   "cell_type": "code",
   "execution_count": 357,
   "metadata": {},
   "outputs": [],
   "source": [
    "for i in range(1000):\n",
    "\tpen = 0.3*np.random.rand() + 0.1\n",
    "\ta=0.4*np.random.rand() + 0.6\n",
    "\tb=0.2*np.random.rand() +0.1\n",
    "\tt= 0.4*np.random.rand() + 0.1\n",
    "\tt_ref = 0.4*np.array([np.random.rand()]*(n)) + 0.6\n",
    "\n",
    "\tQ = np.identity(n)\n",
    "\tL = pen * np.identity(n)\n",
    "\tI = np.identity(n)\n",
    "\tA = np.array([a**(i+1) for i in range(n)])\n",
    "\tB = np.array([[a**(i-1) * b for i in range(j, 0, -1)] + [0]*(n-j) for j in range(1, n+1)])\n",
    "\n",
    "\tx = cp.Variable(n)\n",
    "\tconstraints = [x <= np.ones(n), -x <= np.zeros(n), (A*t +B@x) <= np.ones(n), -(A*t +B@x) <= np.zeros(n)]\n",
    "\tprob = cp.Problem(cp.Minimize(cp.quad_form(A*t +B@x - t_ref, I) + cp.quad_form(x, L)), constraints)\n",
    "\tprob.solve()\n",
    "\tif prob.status == 'optimal': ds.append((np.array([t, t_ref[0],a ,b, pen]), x.value))\n",
    "\t"
   ]
  },
  {
   "cell_type": "code",
   "execution_count": 358,
   "metadata": {},
   "outputs": [
    {
     "data": {
      "text/plain": [
       "'optimal'"
      ]
     },
     "execution_count": 358,
     "metadata": {},
     "output_type": "execute_result"
    }
   ],
   "source": [
    "prob.status"
   ]
  },
  {
   "cell_type": "code",
   "execution_count": 359,
   "metadata": {},
   "outputs": [],
   "source": [
    "sol = torch.tensor(x.value)"
   ]
  },
  {
   "cell_type": "code",
   "execution_count": 360,
   "metadata": {},
   "outputs": [],
   "source": [
    "lambda_ = torch.tensor(constraints[1].dual_value)"
   ]
  },
  {
   "cell_type": "code",
   "execution_count": 361,
   "metadata": {},
   "outputs": [],
   "source": [
    "nu = torch.tensor(constraints[0].dual_value)"
   ]
  },
  {
   "cell_type": "code",
   "execution_count": 362,
   "metadata": {},
   "outputs": [],
   "source": [
    "rho = torch.tensor(constraints[2].dual_value)"
   ]
  },
  {
   "cell_type": "code",
   "execution_count": 363,
   "metadata": {},
   "outputs": [],
   "source": [
    "mu = torch.tensor(constraints[3].dual_value)"
   ]
  },
  {
   "cell_type": "code",
   "execution_count": 364,
   "metadata": {},
   "outputs": [],
   "source": [
    "from pickle import dump\n",
    "dump(ds, open(\"mpc.pkl\", \"wb\"))"
   ]
  },
  {
   "cell_type": "code",
   "execution_count": 365,
   "metadata": {},
   "outputs": [],
   "source": [
    "def grad_cost(U, x_t, x_ref, a, b, q, r):\n",
    "\tgrad = torch.zeros_like(U)\n",
    "\tx = x_t\n",
    "\tfor k in range(n):\n",
    "\t\tU_t = U[k].squeeze()\n",
    "\t\tx_next = a * x + b * U_t\n",
    "\t\tgrad[k] = 2 * b * q * (x_next - x_ref[k].squeeze()) + 2 * r * U_t\n",
    "\t\tx = x_next\n",
    "\treturn grad"
   ]
  },
  {
   "cell_type": "code",
   "execution_count": 366,
   "metadata": {},
   "outputs": [],
   "source": [
    "def kkt_loss(U, lambda_, mu, nu, rho, x_t, x_ref, a, b, q, r):\n",
    "        U_min = 0.0\n",
    "        U_max = 1.0\n",
    "        T_min = 0.0\n",
    "        T_max = 1.0\n",
    "\n",
    "        # Violazione della stazionarietà\n",
    "        grad_J = grad_cost(U, x_t, x_ref, a, b, q, r)\n",
    "        grad_ineq_control = lambda_ - mu\n",
    "        grad_ineq_state = -b * nu + b * rho\n",
    "        stationarity_violation = (grad_J + grad_ineq_control + grad_ineq_state).pow(2).sum()\n",
    "\n",
    "        # Violazione della primal feasibility (controlli e stati)\n",
    "        control_feasibility = (torch.max(U_min - U, torch.zeros_like(U)) + torch.max(U - U_max, torch.zeros_like(U))).pow(2).sum()\n",
    "\n",
    "        x = copy(x_t)\n",
    "        state_feasibility = 0\n",
    "        for k in range(n):\n",
    "            U_t = U[..., k].squeeze()\n",
    "            x = copy(a * x + b * U_t)\n",
    "            state_feasibility += (torch.max(T_min - x, torch.zeros_like(x)) + torch.max(x - T_max, torch.zeros_like(x))).pow(2).sum()\n",
    "\n",
    "        # Violazione della complementarità\n",
    "        comp_control = lambda_ * (U - U_min) + mu * (U_max - U)\n",
    "        comp_state = 0\n",
    "        x = copy(x_t)\n",
    "        for k in range(n):\n",
    "            U_t = U[k].squeeze()\n",
    "            x_next = a * x + b * U_t\n",
    "            nu_t = nu[k].squeeze()\n",
    "            rho_t = rho[k].squeeze()\n",
    "            comp_state += (nu_t * (T_min - x_next) + rho_t * (x_next - T_max)).pow(2).sum()\n",
    "            x = copy(x_next)\n",
    "        comp_loss = comp_control.pow(2).sum() + comp_state\n",
    "\n",
    "        # Violazione della dual feasibility\n",
    "\n",
    "        # Somma delle violazioni\n",
    "        return grad_J, stationarity_violation, control_feasibility,state_feasibility,  comp_loss"
   ]
  },
  {
   "cell_type": "code",
   "execution_count": null,
   "metadata": {},
   "outputs": [],
   "source": []
  },
  {
   "cell_type": "code",
   "execution_count": 367,
   "metadata": {},
   "outputs": [
    {
     "data": {
      "text/plain": [
       "(tensor([ 2.1016e-01,  1.8768e-01,  1.5076e-01,  9.2640e-02, -1.3264e-09],\n",
       "        dtype=torch.float64),\n",
       " tensor(0.1106, dtype=torch.float64),\n",
       " tensor(0., dtype=torch.float64),\n",
       " tensor(0., dtype=torch.float64),\n",
       " tensor(2.6529e-07, dtype=torch.float64))"
      ]
     },
     "execution_count": 367,
     "metadata": {},
     "output_type": "execute_result"
    }
   ],
   "source": [
    "kkt_loss(sol, lambda_, mu, nu, rho, t, t_ref, a, b, torch.tensor(1), pen)"
   ]
  },
  {
   "cell_type": "code",
   "execution_count": 368,
   "metadata": {},
   "outputs": [],
   "source": [
    "grad = torch.zeros_like(sol)\n",
    "x = copy(t)\n",
    "for k in range(n):\n",
    "\tU_t = copy(sol[k].squeeze())\n",
    "\tx_next = a * x + b * U_t\n",
    "\tgrad[k] = 2 * b  * (x_next - t_ref[k].squeeze()) + 2 * pen * U_t- b*nu[k]\n",
    "\tx = copy(x_next)"
   ]
  },
  {
   "cell_type": "code",
   "execution_count": 369,
   "metadata": {},
   "outputs": [
    {
     "data": {
      "text/plain": [
       "tensor([0., 0., 0., 0., 0.], dtype=torch.float64)"
      ]
     },
     "execution_count": 369,
     "metadata": {},
     "output_type": "execute_result"
    }
   ],
   "source": [
    "lambda_"
   ]
  },
  {
   "cell_type": "code",
   "execution_count": 370,
   "metadata": {},
   "outputs": [
    {
     "data": {
      "text/plain": [
       "tensor([1.0000, 0.9305, 0.8243, 0.6622, 0.4069], dtype=torch.float64)"
      ]
     },
     "execution_count": 370,
     "metadata": {},
     "output_type": "execute_result"
    }
   ],
   "source": [
    "sol"
   ]
  },
  {
   "cell_type": "code",
   "execution_count": 371,
   "metadata": {},
   "outputs": [
    {
     "data": {
      "text/plain": [
       "tensor([2.0998e-01, 1.8768e-01, 1.5076e-01, 9.2640e-02, 2.7756e-17],\n",
       "       dtype=torch.float64)"
      ]
     },
     "execution_count": 371,
     "metadata": {},
     "output_type": "execute_result"
    }
   ],
   "source": [
    "grad"
   ]
  },
  {
   "cell_type": "code",
   "execution_count": 372,
   "metadata": {},
   "outputs": [
    {
     "data": {
      "text/plain": [
       "0.1646234299501639"
      ]
     },
     "execution_count": 372,
     "metadata": {},
     "output_type": "execute_result"
    }
   ],
   "source": [
    "pen"
   ]
  },
  {
   "cell_type": "code",
   "execution_count": 373,
   "metadata": {},
   "outputs": [
    {
     "data": {
      "text/plain": [
       "tensor(1., dtype=torch.float64)"
      ]
     },
     "execution_count": 373,
     "metadata": {},
     "output_type": "execute_result"
    }
   ],
   "source": [
    "sol[0]"
   ]
  },
  {
   "cell_type": "code",
   "execution_count": null,
   "metadata": {},
   "outputs": [],
   "source": []
  },
  {
   "cell_type": "code",
   "execution_count": 374,
   "metadata": {},
   "outputs": [
    {
     "data": {
      "text/plain": [
       "tensor(0.3019, dtype=torch.float64)"
      ]
     },
     "execution_count": 374,
     "metadata": {},
     "output_type": "execute_result"
    }
   ],
   "source": [
    "a * t + b * sol[0]"
   ]
  },
  {
   "cell_type": "code",
   "execution_count": 375,
   "metadata": {},
   "outputs": [
    {
     "data": {
      "text/plain": [
       "0.8849300074796036"
      ]
     },
     "execution_count": 375,
     "metadata": {},
     "output_type": "execute_result"
    }
   ],
   "source": [
    "t_ref[0].squeeze()"
   ]
  }
 ],
 "metadata": {
  "kernelspec": {
   "display_name": "KKT_NN",
   "language": "python",
   "name": "python3"
  },
  "language_info": {
   "codemirror_mode": {
    "name": "ipython",
    "version": 3
   },
   "file_extension": ".py",
   "mimetype": "text/x-python",
   "name": "python",
   "nbconvert_exporter": "python",
   "pygments_lexer": "ipython3",
   "version": "3.12.4"
  }
 },
 "nbformat": 4,
 "nbformat_minor": 2
}
