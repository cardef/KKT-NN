{
 "cells": [
  {
   "cell_type": "code",
   "execution_count": 42,
   "metadata": {},
   "outputs": [],
   "source": [
    "import numpy as np\n",
    "import cvxpy as cp\n",
    "import random"
   ]
  },
  {
   "cell_type": "code",
   "execution_count": null,
   "metadata": {},
   "outputs": [],
   "source": [
    "random.seed(42)     # python random generator\n",
    "np.random.seed(42)  # numpy random generator"
   ]
  },
  {
   "cell_type": "code",
   "execution_count": 43,
   "metadata": {},
   "outputs": [],
   "source": [
    "def loads(p, q, p_min, p_max, p_plus, p_pot, q_min, q_max, q_minus, q_plus):\n",
    "\ttau_1 = (q_plus - q_max)/(p_max - p_plus)\n",
    "\ttau_2 = (q_minus - q_min)/(p_max - p_plus)\n",
    "\n",
    "\trho_1 = q_max - tau_1*p_plus\n",
    "\trho_2 = q_min - tau_2*p_plus\n",
    "\tpoint = np.array([p, q])\n",
    "\n",
    "\t# Inequality constraints for the optimization problem.\n",
    "\tG = np.array([[-1, 0], [1, 0], [1, 0], [0, -1], [0, 1], [-tau_1, 1], [tau_2, -1]])\n",
    "\n",
    "\th = np.array([-p_min, p_max, p_pot, -q_min, q_max, rho_1, -rho_2])\n",
    "\n",
    "\t# Define and solve the CVXPY problem.\n",
    "\tx = cp.Variable(2)\n",
    "\tprob = cp.Problem(cp.Minimize(cp.sum_squares(x - point)), [G @ x <= h])\n",
    "\tprob.solve()\n",
    "\n",
    "\tp_feas = x.value[0]\n",
    "\tq_feas = x.value[1]\n",
    "\treturn p_feas, q_feas, prob.status"
   ]
  },
  {
   "cell_type": "code",
   "execution_count": 44,
   "metadata": {},
   "outputs": [],
   "source": [
    "ds = []"
   ]
  },
  {
   "cell_type": "code",
   "execution_count": 45,
   "metadata": {},
   "outputs": [],
   "source": [
    "p_min = 0.0\n",
    "p_max = 0.3\n",
    "p_plus = 0.2\n",
    "q_min = -0.3\n",
    "q_max = 0.3\n",
    "q_minus = -0.15\n",
    "q_plus = 0.15\n"
   ]
  },
  {
   "cell_type": "code",
   "execution_count": 46,
   "metadata": {},
   "outputs": [],
   "source": [
    "for _ in range(5000):\n",
    "\tp_pot = np.random.rand() * p_max\n",
    "\tp = np.random.rand()\n",
    "\tq = 2*np.random.rand() - 1\n",
    "\tp_feas, q_feas, status = loads(p, q, p_min, p_max, p_plus, p_pot, q_min, q_max, q_minus, q_plus)\n",
    "\tX = np.array([2.*p-1., q, 2.*(p_pot/p_max)-1., 2.*(p_max - 0.2)/0.8 - 1., 2.*(q_max - 0.2)/0.8 -1., 2.*(p_plus - 0.1)/(0.9*p_max - 0.1) -1., 2*(q_plus - 0.1)/(0.9*q_max - 0.1) - 1.])\n",
    "\ty = np.array([p_feas, q_feas])\n",
    "\n",
    "\tif status == 'optimal': ds.append([X, y])\n",
    "\telse: print(\"Error\")"
   ]
  },
  {
   "cell_type": "code",
   "execution_count": 47,
   "metadata": {},
   "outputs": [],
   "source": [
    "p_min = 0.0\n",
    "p_max = 0.5\n",
    "p_plus = 0.35\n",
    "q_min = -0.5\n",
    "q_max = 0.5\n",
    "q_minus = -0.2\n",
    "q_plus = 0.2"
   ]
  },
  {
   "cell_type": "code",
   "execution_count": 48,
   "metadata": {},
   "outputs": [],
   "source": [
    "for _ in range(5000):\n",
    "\tp_pot = np.random.rand() * p_max\n",
    "\tp = np.random.rand()\n",
    "\tq = 2*np.random.rand() - 1\n",
    "\tp_feas, q_feas, status = loads(p, q, p_min, p_max, p_plus, p_pot, q_min, q_max, q_minus, q_plus)\n",
    "\tX = np.array([2.*p-1., q, 2.*(p_pot/p_max)-1., 2.*(p_max - 0.2)/0.8 - 1., 2.*(q_max - 0.2)/0.8 -1., 2.*(p_plus - 0.1)/(0.9*p_max - 0.1) -1., 2*(q_plus - 0.1)/(0.9*q_max - 0.1) - 1.])\n",
    "\ty = np.array([p_feas, q_feas])\n",
    "\n",
    "\tif status == 'optimal':  ds.append([X, y])\n",
    "\telse: print(\"Error\") "
   ]
  },
  {
   "cell_type": "code",
   "execution_count": 49,
   "metadata": {},
   "outputs": [
    {
     "data": {
      "text/plain": [
       "[array([ 0.63868119,  0.85628106,  0.94805421, -0.75      , -0.75      ,\n",
       "         0.17647059, -0.41176471]),\n",
       " array([0.2, 0.3])]"
      ]
     },
     "execution_count": 49,
     "metadata": {},
     "output_type": "execute_result"
    }
   ],
   "source": [
    "ds[0]"
   ]
  },
  {
   "cell_type": "code",
   "execution_count": 50,
   "metadata": {},
   "outputs": [],
   "source": [
    "from pickle import dump\n",
    "dump(ds, open(\"projection.pkl\", \"wb\"))"
   ]
  },
  {
   "cell_type": "code",
   "execution_count": null,
   "metadata": {},
   "outputs": [],
   "source": []
  }
 ],
 "metadata": {
  "kernelspec": {
   "display_name": "KKT_NN",
   "language": "python",
   "name": "python3"
  },
  "language_info": {
   "codemirror_mode": {
    "name": "ipython",
    "version": 3
   },
   "file_extension": ".py",
   "mimetype": "text/x-python",
   "name": "python",
   "nbconvert_exporter": "python",
   "pygments_lexer": "ipython3",
   "version": "3.12.4"
  }
 },
 "nbformat": 4,
 "nbformat_minor": 2
}
