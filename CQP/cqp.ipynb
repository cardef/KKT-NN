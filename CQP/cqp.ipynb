{
 "cells": [
  {
   "cell_type": "code",
   "execution_count": 1075,
   "metadata": {},
   "outputs": [],
   "source": [
    "from pypfopt.expected_returns import mean_historical_return\n",
    "from pypfopt.risk_models import CovarianceShrinkage\n",
    "import numpy as np\n",
    "import pandas as pd\n",
    "import cvxpy as cp\n",
    "from copy import copy, deepcopy\n"
   ]
  },
  {
   "cell_type": "code",
   "execution_count": 1076,
   "metadata": {},
   "outputs": [],
   "source": [
    "n=15\n",
    "m=10\n",
    "p=5"
   ]
  },
  {
   "cell_type": "code",
   "execution_count": 1077,
   "metadata": {},
   "outputs": [],
   "source": [
    "ds = []"
   ]
  },
  {
   "cell_type": "code",
   "execution_count": 1078,
   "metadata": {},
   "outputs": [],
   "source": [
    "Q = np.random.rand(n, n)\n",
    "Q = np.dot(Q.transpose(), Q)\n",
    "\n",
    "#Q = Q/(np.max(Q))"
   ]
  },
  {
   "cell_type": "code",
   "execution_count": 1079,
   "metadata": {},
   "outputs": [],
   "source": [
    "c = np.random.rand(n)"
   ]
  },
  {
   "cell_type": "code",
   "execution_count": 1080,
   "metadata": {},
   "outputs": [],
   "source": [
    "G = np.random.rand(m, n)"
   ]
  },
  {
   "cell_type": "code",
   "execution_count": 1081,
   "metadata": {},
   "outputs": [],
   "source": [
    "h = G@np.random.rand(n) "
   ]
  },
  {
   "cell_type": "code",
   "execution_count": 1082,
   "metadata": {},
   "outputs": [],
   "source": [
    "A = np.random.rand(p, n)"
   ]
  },
  {
   "cell_type": "code",
   "execution_count": 1083,
   "metadata": {},
   "outputs": [],
   "source": [
    "b = np.random.rand(p)"
   ]
  },
  {
   "cell_type": "code",
   "execution_count": 1108,
   "metadata": {},
   "outputs": [],
   "source": [
    "for i in range(1):\n",
    "\tc = np.random.rand(n)\n",
    "\tx = cp.Variable(n)\n",
    "\tconstraints = [G@x <= h, np.identity(n)@x <= np.ones(n), np.identity(n)@x >= -np.ones(n)]\n",
    "\tprob = cp.Problem(cp.Minimize(0.5*cp.quad_form(x, Q) + c.T@x), constraints)\n",
    "\tprob.solve()\n",
    "\tif prob.status == 'optimal': ds.append((np.array([t, t_ref[0]]), x.value))\n",
    "\t"
   ]
  },
  {
   "cell_type": "code",
   "execution_count": 1109,
   "metadata": {},
   "outputs": [
    {
     "data": {
      "text/plain": [
       "'optimal'"
      ]
     },
     "execution_count": 1109,
     "metadata": {},
     "output_type": "execute_result"
    }
   ],
   "source": [
    "prob.status"
   ]
  },
  {
   "cell_type": "code",
   "execution_count": 1110,
   "metadata": {},
   "outputs": [
    {
     "data": {
      "text/plain": [
       "array([ 0.22814352, -0.13563488, -1.        ,  0.3357851 ,  0.15605192,\n",
       "        1.        , -0.63948062, -0.84205632,  0.58062985,  0.73878819,\n",
       "       -0.08983333,  0.08157517, -1.        , -0.94619556,  1.        ])"
      ]
     },
     "execution_count": 1110,
     "metadata": {},
     "output_type": "execute_result"
    }
   ],
   "source": [
    "x.value"
   ]
  },
  {
   "cell_type": "code",
   "execution_count": 1111,
   "metadata": {},
   "outputs": [],
   "source": [
    "from pickle import dump\n",
    "dump(ds, open(\"cqp.pkl\", \"wb\"))"
   ]
  }
 ],
 "metadata": {
  "kernelspec": {
   "display_name": "KKT_NN",
   "language": "python",
   "name": "python3"
  },
  "language_info": {
   "codemirror_mode": {
    "name": "ipython",
    "version": 3
   },
   "file_extension": ".py",
   "mimetype": "text/x-python",
   "name": "python",
   "nbconvert_exporter": "python",
   "pygments_lexer": "ipython3",
   "version": "3.12.4"
  }
 },
 "nbformat": 4,
 "nbformat_minor": 2
}
