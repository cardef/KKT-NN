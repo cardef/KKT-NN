{
 "cells": [
  {
   "cell_type": "code",
   "execution_count": 58,
   "metadata": {},
   "outputs": [],
   "source": [
    "from pypfopt.expected_returns import mean_historical_return\n",
    "from pypfopt.risk_models import CovarianceShrinkage\n",
    "import numpy as np\n",
    "import pandas as pd\n",
    "import cvxpy as cp\n",
    "import torch\n",
    "from copy import copy, deepcopy\n"
   ]
  },
  {
   "cell_type": "code",
   "execution_count": 59,
   "metadata": {},
   "outputs": [],
   "source": [
    "n=5"
   ]
  },
  {
   "cell_type": "code",
   "execution_count": 60,
   "metadata": {},
   "outputs": [
    {
     "data": {
      "text/plain": [
       "0.15133666396337742"
      ]
     },
     "execution_count": 60,
     "metadata": {},
     "output_type": "execute_result"
    }
   ],
   "source": [
    "np.random.rand()"
   ]
  },
  {
   "cell_type": "code",
   "execution_count": 61,
   "metadata": {},
   "outputs": [],
   "source": [
    "ds = []"
   ]
  },
  {
   "cell_type": "code",
   "execution_count": 62,
   "metadata": {},
   "outputs": [],
   "source": [
    "a_min = 0.9\n",
    "a_var = 0.1\n",
    "\n",
    "b_min = 0.1\n",
    "b_var = 0.1\n",
    "\n",
    "r_min = 0.1\n",
    "r_var = 0.1\n",
    "\n",
    "x_0_min = 0.2\n",
    "x_0_var = 0.1\n",
    "\n",
    "x_ref_min = 0.7\n",
    "x_ref_var = 0.1"
   ]
  },
  {
   "cell_type": "code",
   "execution_count": 63,
   "metadata": {},
   "outputs": [],
   "source": [
    "for i in range(1000):\n",
    "\t\n",
    "\ta=0.9\n",
    "\tb=0.1\n",
    "\tr = r_var*np.random.rand() + r_min\n",
    "\tx_0=  x_0_var*np.random.rand() + x_0_min\n",
    "\tx_ref = 0.1*np.array([np.random.rand()]*(n)) + 0.7\n",
    "\t\n",
    "\n",
    "\tL = r * np.identity(n)\n",
    "\tI = np.identity(n)\n",
    "\tA = np.array([a**(i+1) for i in range(n)])\n",
    "\tB = np.array([[a**(i-1) * b for i in range(j, 0, -1)] + [0]*(n-j) for j in range(1, n+1)])\n",
    "\n",
    "\tu = cp.Variable(n)\n",
    "\tconstraints = [u <= np.ones(n), -u <= np.zeros(n), (A*x_0 +B@u) <= np.ones(n), -(A*x_0 +B@u) <= np.zeros(n)]\n",
    "\tprob = cp.Problem(cp.Minimize(cp.quad_form(A*x_0 +B@u - x_ref, I) + cp.quad_form(u, L)), constraints)\n",
    "\tprob.solve()\n",
    "\tif prob.status == 'optimal': ds.append([(r - r_min)/r_var, (x_0-x_0_min)/x_0_var, (x_ref[0]-x_ref_min)/x_ref_var, u.value])\n",
    "\t"
   ]
  },
  {
   "cell_type": "code",
   "execution_count": 64,
   "metadata": {},
   "outputs": [],
   "source": [
    "from pickle import dump\n",
    "dump(ds, open(\"mpc.pkl\", \"wb\"))"
   ]
  },
  {
   "cell_type": "code",
   "execution_count": 65,
   "metadata": {},
   "outputs": [],
   "source": [
    "h = 0.01*np.random.rand() + 0.9"
   ]
  },
  {
   "cell_type": "code",
   "execution_count": 66,
   "metadata": {},
   "outputs": [
    {
     "data": {
      "text/plain": [
       "0.6513486653710765"
      ]
     },
     "execution_count": 66,
     "metadata": {},
     "output_type": "execute_result"
    }
   ],
   "source": [
    "(h - 0.9)/0.01"
   ]
  },
  {
   "cell_type": "code",
   "execution_count": 67,
   "metadata": {},
   "outputs": [
    {
     "data": {
      "text/plain": [
       "[0.7712550212968466,\n",
       " 0.9093277461111476,\n",
       " 0.2634844733706021,\n",
       " array([0.81814251, 0.66898224, 0.52365651, 0.37143429, 0.20107529])]"
      ]
     },
     "execution_count": 67,
     "metadata": {},
     "output_type": "execute_result"
    }
   ],
   "source": [
    "ds[0]"
   ]
  },
  {
   "cell_type": "code",
   "execution_count": 68,
   "metadata": {},
   "outputs": [
    {
     "data": {
      "text/plain": [
       "array([1.        , 1.        , 0.9314627 , 0.64182315, 0.34294526])"
      ]
     },
     "execution_count": 68,
     "metadata": {},
     "output_type": "execute_result"
    }
   ],
   "source": [
    "u.value"
   ]
  },
  {
   "cell_type": "code",
   "execution_count": 69,
   "metadata": {},
   "outputs": [
    {
     "data": {
      "text/plain": [
       "'optimal'"
      ]
     },
     "execution_count": 69,
     "metadata": {},
     "output_type": "execute_result"
    }
   ],
   "source": [
    "prob.status"
   ]
  },
  {
   "cell_type": "code",
   "execution_count": 70,
   "metadata": {},
   "outputs": [],
   "source": [
    "lambda_ = torch.tensor(constraints[1].dual_value)"
   ]
  },
  {
   "cell_type": "code",
   "execution_count": 71,
   "metadata": {},
   "outputs": [],
   "source": [
    "nu = torch.tensor(constraints[0].dual_value)"
   ]
  },
  {
   "cell_type": "code",
   "execution_count": 72,
   "metadata": {},
   "outputs": [],
   "source": [
    "rho = torch.tensor(constraints[2].dual_value)"
   ]
  },
  {
   "cell_type": "code",
   "execution_count": 73,
   "metadata": {},
   "outputs": [],
   "source": [
    "mu = torch.tensor(constraints[3].dual_value)"
   ]
  },
  {
   "cell_type": "code",
   "execution_count": null,
   "metadata": {},
   "outputs": [],
   "source": []
  },
  {
   "cell_type": "code",
   "execution_count": 74,
   "metadata": {},
   "outputs": [],
   "source": [
    "def grad_cost(U, x_t, x_ref, a, b, q, r):\n",
    "\tgrad = torch.zeros_like(U)\n",
    "\tx = x_t\n",
    "\tfor k in range(n):\n",
    "\t\tU_t = U[k].squeeze()\n",
    "\t\tx_next = a * x + b * U_t\n",
    "\t\tgrad[k] = 2 * b * q * (x_next - x_ref[k].squeeze()) + 2 * r * U_t\n",
    "\t\tx = x_next\n",
    "\treturn grad"
   ]
  },
  {
   "cell_type": "code",
   "execution_count": 75,
   "metadata": {},
   "outputs": [],
   "source": [
    "def kkt_loss(U, lambda_, mu, nu, rho, x_t, x_ref, a, b, q, r):\n",
    "\t\tU_min = 0.0\n",
    "\t\tU_max = 1.0\n",
    "\t\tT_min = 0.0\n",
    "\t\tT_max = 1.0\n",
    "\n",
    "\t\t# Violazione della stazionarietà\n",
    "\t\tgrad_J = grad_cost(U, x_t, x_ref, a, b, q, r)\n",
    "\t\tgrad_ineq_control = lambda_ - mu\n",
    "\t\tgrad_ineq_state = -b * nu + b * rho\n",
    "\t\tstationarity_violation = (grad_J + grad_ineq_control + grad_ineq_state).pow(2).sum()\n",
    "\n",
    "\t\t# Violazione della primal feasibility (controlli e stati)\n",
    "\t\tcontrol_feasibility = (torch.max(U_min - U, torch.zeros_like(U)) + torch.max(U - U_max, torch.zeros_like(U))).pow(2).sum()\n",
    "\n",
    "\t\tx = copy(x_t)\n",
    "\t\tstate_feasibility = 0\n",
    "\t\tfor k in range(n):\n",
    "\t\t\tU_t = U[..., k].squeeze()\n",
    "\t\t\tx = copy(a * x + b * U_t)\n",
    "\t\t\tstate_feasibility += (torch.max(T_min - x, torch.zeros_like(x)) + torch.max(x - T_max, torch.zeros_like(x))).pow(2).sum()\n",
    "\n",
    "\t\t# Violazione della complementarità\n",
    "\t\tcomp_control = lambda_ * (U - U_min) + mu * (U_max - U)\n",
    "\t\tcomp_state = 0\n",
    "\t\tx = copy(x_t)\n",
    "\t\tfor k in range(n):\n",
    "\t\t\tU_t = U[k].squeeze()\n",
    "\t\t\tx_next = a * x + b * U_t\n",
    "\t\t\tnu_t = nu[k].squeeze()\n",
    "\t\t\trho_t = rho[k].squeeze()\n",
    "\t\t\tcomp_state += (nu_t * (T_min - x_next) + rho_t * (x_next - T_max)).pow(2).sum()\n",
    "\t\t\tx = copy(x_next)\n",
    "\t\tcomp_loss = comp_control.pow(2).sum() + comp_state\n",
    "\n",
    "\t\t# Violazione della dual feasibility\n",
    "\n",
    "\t\t# Somma delle violazioni\n",
    "\t\treturn grad_J, stationarity_violation, control_feasibility,state_feasibility,  comp_loss"
   ]
  },
  {
   "cell_type": "code",
   "execution_count": null,
   "metadata": {},
   "outputs": [],
   "source": []
  },
  {
   "cell_type": "code",
   "execution_count": 76,
   "metadata": {},
   "outputs": [
    {
     "ename": "NameError",
     "evalue": "name 'sol' is not defined",
     "output_type": "error",
     "traceback": [
      "\u001b[0;31m---------------------------------------------------------------------------\u001b[0m",
      "\u001b[0;31mNameError\u001b[0m                                 Traceback (most recent call last)",
      "Cell \u001b[0;32mIn[76], line 1\u001b[0m\n\u001b[0;32m----> 1\u001b[0m kkt_loss(\u001b[43msol\u001b[49m, lambda_, mu, nu, rho, t, t_ref, a, b, torch\u001b[38;5;241m.\u001b[39mtensor(\u001b[38;5;241m1\u001b[39m), pen)\n",
      "\u001b[0;31mNameError\u001b[0m: name 'sol' is not defined"
     ]
    }
   ],
   "source": [
    "kkt_loss(sol, lambda_, mu, nu, rho, t, t_ref, a, b, torch.tensor(1), pen)"
   ]
  },
  {
   "cell_type": "code",
   "execution_count": null,
   "metadata": {},
   "outputs": [],
   "source": [
    "grad = torch.zeros_like(sol)\n",
    "x = copy(t)\n",
    "for k in range(n):\n",
    "\tU_t = copy(sol[k].squeeze())\n",
    "\tx_next = a * x + b * U_t\n",
    "\tgrad[k] = 2 * b  * (x_next - t_ref[k].squeeze()) + 2 * pen * U_t- b*nu[k]\n",
    "\tx = copy(x_next)"
   ]
  },
  {
   "cell_type": "code",
   "execution_count": null,
   "metadata": {},
   "outputs": [
    {
     "data": {
      "text/plain": [
       "tensor([0., 0., 0., 0., 0.], dtype=torch.float64)"
      ]
     },
     "execution_count": 44,
     "metadata": {},
     "output_type": "execute_result"
    }
   ],
   "source": [
    "lambda_"
   ]
  },
  {
   "cell_type": "code",
   "execution_count": null,
   "metadata": {},
   "outputs": [
    {
     "data": {
      "text/plain": [
       "tensor([0.3827, 0.3616, 0.3281, 0.2713, 0.1726], dtype=torch.float64)"
      ]
     },
     "execution_count": 45,
     "metadata": {},
     "output_type": "execute_result"
    }
   ],
   "source": [
    "sol"
   ]
  },
  {
   "cell_type": "code",
   "execution_count": null,
   "metadata": {},
   "outputs": [
    {
     "data": {
      "text/plain": [
       "tensor([1.0003e-01, 9.0769e-02, 7.5044e-02, 4.7745e-02, 4.8572e-17],\n",
       "       dtype=torch.float64)"
      ]
     },
     "execution_count": 46,
     "metadata": {},
     "output_type": "execute_result"
    }
   ],
   "source": [
    "grad"
   ]
  },
  {
   "cell_type": "code",
   "execution_count": null,
   "metadata": {},
   "outputs": [
    {
     "data": {
      "text/plain": [
       "0.17584272646532612"
      ]
     },
     "execution_count": 47,
     "metadata": {},
     "output_type": "execute_result"
    }
   ],
   "source": [
    "pen"
   ]
  },
  {
   "cell_type": "code",
   "execution_count": null,
   "metadata": {},
   "outputs": [
    {
     "data": {
      "text/plain": [
       "tensor(0.3827, dtype=torch.float64)"
      ]
     },
     "execution_count": 48,
     "metadata": {},
     "output_type": "execute_result"
    }
   ],
   "source": [
    "sol[0]"
   ]
  },
  {
   "cell_type": "code",
   "execution_count": null,
   "metadata": {},
   "outputs": [],
   "source": []
  },
  {
   "cell_type": "code",
   "execution_count": null,
   "metadata": {},
   "outputs": [
    {
     "data": {
      "text/plain": [
       "tensor(0.3484, dtype=torch.float64)"
      ]
     },
     "execution_count": 49,
     "metadata": {},
     "output_type": "execute_result"
    }
   ],
   "source": [
    "a * t + b * sol[0]"
   ]
  },
  {
   "cell_type": "code",
   "execution_count": null,
   "metadata": {},
   "outputs": [
    {
     "data": {
      "text/plain": [
       "0.4382834245890117"
      ]
     },
     "execution_count": 50,
     "metadata": {},
     "output_type": "execute_result"
    }
   ],
   "source": [
    "t_ref[0].squeeze()"
   ]
  }
 ],
 "metadata": {
  "kernelspec": {
   "display_name": "KKT_NN",
   "language": "python",
   "name": "python3"
  },
  "language_info": {
   "codemirror_mode": {
    "name": "ipython",
    "version": 3
   },
   "file_extension": ".py",
   "mimetype": "text/x-python",
   "name": "python",
   "nbconvert_exporter": "python",
   "pygments_lexer": "ipython3",
   "version": "3.12.4"
  }
 },
 "nbformat": 4,
 "nbformat_minor": 2
}
