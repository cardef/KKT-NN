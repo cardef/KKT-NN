{
 "cells": [
  {
   "cell_type": "code",
   "execution_count": 34,
   "metadata": {},
   "outputs": [],
   "source": [
    "from pypfopt.expected_returns import mean_historical_return\n",
    "from pypfopt.risk_models import CovarianceShrinkage\n",
    "import numpy as np\n",
    "import pandas as pd\n",
    "import cvxpy as cp\n",
    "from copy import copy, deepcopy\n"
   ]
  },
  {
   "cell_type": "code",
   "execution_count": 35,
   "metadata": {},
   "outputs": [],
   "source": [
    "n=4\n",
    "m=2\n",
    "p=1"
   ]
  },
  {
   "cell_type": "code",
   "execution_count": 36,
   "metadata": {},
   "outputs": [],
   "source": [
    "ds = []"
   ]
  },
  {
   "cell_type": "code",
   "execution_count": null,
   "metadata": {},
   "outputs": [],
   "source": [
    "A_q = np.random.rand(n, n)\n",
    "Q = np.dot(A_q.T, A_q) + n * np.eye(n) \n",
    "c = np.random.uniform(-1, 1, n)\n",
    "bounds = [(-1, 1) for _ in range(n)]\n",
    "x_feasible = np.random.uniform(-0.9, 0.9, n)\n",
    "A = np.random.uniform(-1, 1, (m, n))\n",
    "G = np.random.uniform(-1, 1, (p, n))\n",
    "h = np.dot(G, x_feasible)\n",
    "b = np.dot(A, x_feasible) + np.random.uniform(0.1, 1.0, m)"
   ]
  },
  {
   "cell_type": "code",
   "execution_count": 37,
   "metadata": {},
   "outputs": [],
   "source": [
    "for i in range(1):\n",
    "\t\n",
    "\t\n",
    "\t\n",
    "\t\n",
    "\tx = cp.Variable(n)\n",
    "\tconstraints = [A@x <= b, G@x == h,np.identity(n)@x <= np.ones(n), np.identity(n)@x >= -np.ones(n)]\n",
    "\tprob = cp.Problem(cp.Minimize(0.5*cp.quad_form(x, Q) + c.T@x), constraints)\n",
    "\tprob.solve()\n",
    "\tif prob.status == 'optimal': ds.append((b, x.value))\n",
    "\t"
   ]
  },
  {
   "cell_type": "code",
   "execution_count": 39,
   "metadata": {},
   "outputs": [
    {
     "data": {
      "text/plain": [
       "array([[-0.72142756, -0.55637699,  0.88379704, -0.67737616],\n",
       "       [-0.94878079,  0.76248755,  0.57293348, -0.67290018]])"
      ]
     },
     "execution_count": 39,
     "metadata": {},
     "output_type": "execute_result"
    }
   ],
   "source": [
    "A"
   ]
  },
  {
   "cell_type": "code",
   "execution_count": 38,
   "metadata": {},
   "outputs": [
    {
     "data": {
      "text/plain": [
       "[(array([-0.22633813, -0.47023235]),\n",
       "  array([ 0.08489935, -0.28807553, -0.4175564 ,  0.24623117]))]"
      ]
     },
     "execution_count": 38,
     "metadata": {},
     "output_type": "execute_result"
    }
   ],
   "source": [
    "ds"
   ]
  },
  {
   "cell_type": "code",
   "execution_count": 25,
   "metadata": {},
   "outputs": [
    {
     "data": {
      "text/plain": [
       "'optimal'"
      ]
     },
     "execution_count": 25,
     "metadata": {},
     "output_type": "execute_result"
    }
   ],
   "source": [
    "prob.status"
   ]
  },
  {
   "cell_type": "code",
   "execution_count": 26,
   "metadata": {},
   "outputs": [
    {
     "data": {
      "text/plain": [
       "array([-0.1723105 , -0.17500188,  0.82002068,  0.04322235])"
      ]
     },
     "execution_count": 26,
     "metadata": {},
     "output_type": "execute_result"
    }
   ],
   "source": [
    "x.value"
   ]
  },
  {
   "cell_type": "code",
   "execution_count": 27,
   "metadata": {},
   "outputs": [],
   "source": [
    "from pickle import dump\n",
    "dump(ds, open(\"cqp.pkl\", \"wb\"))"
   ]
  }
 ],
 "metadata": {
  "kernelspec": {
   "display_name": "KKT_NN",
   "language": "python",
   "name": "python3"
  },
  "language_info": {
   "codemirror_mode": {
    "name": "ipython",
    "version": 3
   },
   "file_extension": ".py",
   "mimetype": "text/x-python",
   "name": "python",
   "nbconvert_exporter": "python",
   "pygments_lexer": "ipython3",
   "version": "3.12.4"
  }
 },
 "nbformat": 4,
 "nbformat_minor": 2
}
